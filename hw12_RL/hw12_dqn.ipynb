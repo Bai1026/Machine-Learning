{
 "cells": [
  {
   "attachments": {},
   "cell_type": "markdown",
   "metadata": {
    "id": "Fp30SB4bxeQb"
   },
   "source": [
    "# **Homework 12 - Reinforcement Learning**\n",
    "\n",
    "若有任何問題，歡迎來信至助教信箱 ntu-ml-2021spring-ta@googlegroups.com\n",
    "\n"
   ]
  },
  {
   "attachments": {},
   "cell_type": "markdown",
   "metadata": {
    "id": "yXsnCWPtWSNk"
   },
   "source": [
    "## 前置作業\n",
    "\n",
    "首先我們需要安裝必要的系統套件及 PyPi 套件。\n",
    "gym 這個套件由 OpenAI 所提供，是一套用來開發與比較 Reinforcement Learning 演算法的工具包（toolkit）。\n",
    "而其餘套件則是為了在 Notebook 中繪圖所需要的套件。"
   ]
  },
  {
   "cell_type": "code",
   "execution_count": 1,
   "metadata": {
    "colab": {
     "base_uri": "https://localhost:8080/"
    },
    "executionInfo": {
     "elapsed": 389,
     "status": "ok",
     "timestamp": 1622991984585,
     "user": {
      "displayName": "白曜瑋",
      "photoUrl": "",
      "userId": "08022902471796002564"
     },
     "user_tz": -480
    },
    "id": "u394ON6kIms5",
    "outputId": "83ae3eb5-9981-4afa-bf69-653bd6c3d2fc"
   },
   "outputs": [
    {
     "name": "stdout",
     "output_type": "stream",
     "text": [
      "Sun Jun  6 15:06:24 2021       \n",
      "+-----------------------------------------------------------------------------+\n",
      "| NVIDIA-SMI 465.27       Driver Version: 460.32.03    CUDA Version: 11.2     |\n",
      "|-------------------------------+----------------------+----------------------+\n",
      "| GPU  Name        Persistence-M| Bus-Id        Disp.A | Volatile Uncorr. ECC |\n",
      "| Fan  Temp  Perf  Pwr:Usage/Cap|         Memory-Usage | GPU-Util  Compute M. |\n",
      "|                               |                      |               MIG M. |\n",
      "|===============================+======================+======================|\n",
      "|   0  Tesla V100-SXM2...  Off  | 00000000:00:04.0 Off |                    0 |\n",
      "| N/A   35C    P0    24W / 300W |      0MiB / 16160MiB |      0%      Default |\n",
      "|                               |                      |                  N/A |\n",
      "+-------------------------------+----------------------+----------------------+\n",
      "                                                                               \n",
      "+-----------------------------------------------------------------------------+\n",
      "| Processes:                                                                  |\n",
      "|  GPU   GI   CI        PID   Type   Process name                  GPU Memory |\n",
      "|        ID   ID                                                   Usage      |\n",
      "|=============================================================================|\n",
      "|  No running processes found                                                 |\n",
      "+-----------------------------------------------------------------------------+\n"
     ]
    }
   ],
   "source": [
    "!nvidia-smi"
   ]
  },
  {
   "cell_type": "code",
   "execution_count": 2,
   "metadata": {
    "executionInfo": {
     "elapsed": 677,
     "status": "ok",
     "timestamp": 1622991985620,
     "user": {
      "displayName": "白曜瑋",
      "photoUrl": "",
      "userId": "08022902471796002564"
     },
     "user_tz": -480
    },
    "id": "ZfEcy0_-z3ZP"
   },
   "outputs": [],
   "source": [
    "#from google.colab import drive\n",
    "#drive.mount('/content/gdrive')"
   ]
  },
  {
   "cell_type": "code",
   "execution_count": 3,
   "metadata": {
    "executionInfo": {
     "elapsed": 21,
     "status": "ok",
     "timestamp": 1622991985621,
     "user": {
      "displayName": "白曜瑋",
      "photoUrl": "",
      "userId": "08022902471796002564"
     },
     "user_tz": -480
    },
    "id": "RJDIY-c30LqB"
   },
   "outputs": [],
   "source": [
    "#import os\n",
    "\n",
    "# your workspace in your drive\n",
    "#workspace = 'ML2021-hw12'\n",
    "\n",
    "#try:\n",
    "#    os.chdir(os.path.join('/content/gdrive/MyDrive/', workspace))\n",
    "#except:\n",
    "#    os.mkdir(os.path.join('/content/gdrive/MyDrive/', workspace))\n",
    "#    os.chdir(os.path.join('/content/gdrive/MyDrive/', workspace))"
   ]
  },
  {
   "cell_type": "code",
   "execution_count": 4,
   "metadata": {
    "colab": {
     "base_uri": "https://localhost:8080/"
    },
    "executionInfo": {
     "elapsed": 6398,
     "status": "ok",
     "timestamp": 1622991991999,
     "user": {
      "displayName": "白曜瑋",
      "photoUrl": "",
      "userId": "08022902471796002564"
     },
     "user_tz": -480
    },
    "id": "5e2bScpnkVbv",
    "outputId": "f96c4c13-5277-4cab-9908-4b45f8c885aa"
   },
   "outputs": [
    {
     "name": "stdout",
     "output_type": "stream",
     "text": [
      "\u001b[33m\r\n",
      "0% [Working]\u001b[0m\r\n",
      "            \r\n",
      "Hit:1 http://ppa.launchpad.net/c2d4u.team/c2d4u4.0+/ubuntu bionic InRelease\n",
      "\u001b[33m\r\n",
      "0% [Waiting for headers] [Connecting to security.ubuntu.com (91.189.91.38)] [Co\u001b[0m\r\n",
      "                                                                               \r\n",
      "Hit:2 http://archive.ubuntu.com/ubuntu bionic InRelease\n",
      "\u001b[33m\r\n",
      "0% [Waiting for headers] [Connecting to security.ubuntu.com (91.189.91.38)] [Co\u001b[0m\u001b[33m\r\n",
      "0% [1 InRelease gpgv 15.9 kB] [Waiting for headers] [Connecting to security.ubu\u001b[0m\r\n",
      "                                                                               \r\n",
      "Get:3 http://archive.ubuntu.com/ubuntu bionic-updates InRelease [88.7 kB]\n",
      "\u001b[33m\r\n",
      "0% [1 InRelease gpgv 15.9 kB] [3 InRelease 14.2 kB/88.7 kB 16%] [Connecting to \u001b[0m\r\n",
      "                                                                               \r\n",
      "Hit:4 https://cloud.r-project.org/bin/linux/ubuntu bionic-cran40/ InRelease\n",
      "\u001b[33m\r\n",
      "0% [1 InRelease gpgv 15.9 kB] [3 InRelease 14.2 kB/88.7 kB 16%] [Connecting to \u001b[0m\r\n",
      "                                                                               \r\n",
      "Hit:5 http://ppa.launchpad.net/cran/libgit2/ubuntu bionic InRelease\n",
      "\u001b[33m\r\n",
      "0% [1 InRelease gpgv 15.9 kB] [3 InRelease 15.6 kB/88.7 kB 18%] [Connecting to \u001b[0m\u001b[33m\r\n",
      "0% [1 InRelease gpgv 15.9 kB] [Waiting for headers] [Connecting to security.ubu\u001b[0m\r\n",
      "                                                                               \r\n",
      "Hit:6 http://ppa.launchpad.net/deadsnakes/ppa/ubuntu bionic InRelease\n",
      "\u001b[33m\r\n",
      "0% [1 InRelease gpgv 15.9 kB] [Waiting for headers] [Connecting to security.ubu\u001b[0m\r\n",
      "                                                                               \r\n",
      "Get:7 http://archive.ubuntu.com/ubuntu bionic-backports InRelease [74.6 kB]\n",
      "\u001b[33m\r\n",
      "0% [1 InRelease gpgv 15.9 kB] [7 InRelease 11.3 kB/74.6 kB 15%] [Connecting to \u001b[0m\u001b[33m\r\n",
      "0% [1 InRelease gpgv 15.9 kB] [Connecting to security.ubuntu.com (91.189.91.38)\u001b[0m\r\n",
      "                                                                               \r\n",
      "Hit:8 http://ppa.launchpad.net/graphics-drivers/ppa/ubuntu bionic InRelease\n",
      "\u001b[33m\r\n",
      "0% [1 InRelease gpgv 15.9 kB] [Connecting to security.ubuntu.com (91.189.91.38)\u001b[0m\r\n",
      "                                                                               \r\n",
      "Get:9 http://security.ubuntu.com/ubuntu bionic-security InRelease [88.7 kB]\n",
      "Ign:10 https://developer.download.nvidia.com/compute/cuda/repos/ubuntu1804/x86_64  InRelease\n",
      "Ign:11 https://developer.download.nvidia.com/compute/machine-learning/repos/ubuntu1804/x86_64  InRelease\n",
      "Hit:12 https://developer.download.nvidia.com/compute/cuda/repos/ubuntu1804/x86_64  Release\n",
      "Hit:13 https://developer.download.nvidia.com/compute/machine-learning/repos/ubuntu1804/x86_64  Release\n",
      "Fetched 252 kB in 2s (148 kB/s)\n",
      "Reading package lists... Done\n",
      "Building dependency tree       \n",
      "Reading state information... Done\n",
      "46 packages can be upgraded. Run 'apt list --upgradable' to see them.\n",
      "Reading package lists... Done\n",
      "Building dependency tree       \n",
      "Reading state information... Done\n",
      "python-opengl is already the newest version (3.1.0+dfsg-1).\n",
      "xvfb is already the newest version (2:1.19.6-1ubuntu4.9).\n",
      "0 upgraded, 0 newly installed, 0 to remove and 46 not upgraded.\n",
      "Requirement already satisfied: gym[box2d]==0.18.3 in /usr/local/lib/python3.7/dist-packages (0.18.3)\n",
      "Requirement already satisfied: pyvirtualdisplay in /usr/local/lib/python3.7/dist-packages (2.2)\n",
      "Requirement already satisfied: tqdm in /usr/local/lib/python3.7/dist-packages (4.41.1)\n",
      "Requirement already satisfied: numpy==1.19.5 in /usr/local/lib/python3.7/dist-packages (1.19.5)\n",
      "Requirement already satisfied: torch==1.8.1 in /usr/local/lib/python3.7/dist-packages (1.8.1+cu101)\n",
      "Requirement already satisfied: scipy in /usr/local/lib/python3.7/dist-packages (from gym[box2d]==0.18.3) (1.4.1)\n",
      "Requirement already satisfied: cloudpickle<1.7.0,>=1.2.0 in /usr/local/lib/python3.7/dist-packages (from gym[box2d]==0.18.3) (1.3.0)\n",
      "Requirement already satisfied: pyglet<=1.5.15,>=1.4.0 in /usr/local/lib/python3.7/dist-packages (from gym[box2d]==0.18.3) (1.5.0)\n",
      "Requirement already satisfied: Pillow<=8.2.0 in /usr/local/lib/python3.7/dist-packages (from gym[box2d]==0.18.3) (7.1.2)\n",
      "Requirement already satisfied: box2d-py~=2.3.5; extra == \"box2d\" in /usr/local/lib/python3.7/dist-packages (from gym[box2d]==0.18.3) (2.3.8)\n",
      "Requirement already satisfied: EasyProcess in /usr/local/lib/python3.7/dist-packages (from pyvirtualdisplay) (0.3)\n",
      "Requirement already satisfied: typing-extensions in /usr/local/lib/python3.7/dist-packages (from torch==1.8.1) (3.7.4.3)\n",
      "Requirement already satisfied: future in /usr/local/lib/python3.7/dist-packages (from pyglet<=1.5.15,>=1.4.0->gym[box2d]==0.18.3) (0.16.0)\n"
     ]
    }
   ],
   "source": [
    "!apt update\n",
    "!apt install python-opengl xvfb -y\n",
    "!pip install -q swig\n",
    "!pip install box2d==2.3.2 gym[box2d]==0.25.2 box2d-py pyvirtualdisplay tqdm numpy==1.22.4 \n",
    "!pip install box2d==2.3.2 box2d-kengz\n",
    "!pip freeze > requirements.txt"
   ]
  },
  {
   "attachments": {},
   "cell_type": "markdown",
   "metadata": {
    "id": "M_-i3cdoYsks"
   },
   "source": [
    "接下來，設置好 virtual display，並引入所有必要的套件。"
   ]
  },
  {
   "cell_type": "code",
   "execution_count": 5,
   "metadata": {
    "executionInfo": {
     "elapsed": 718,
     "status": "ok",
     "timestamp": 1622991992712,
     "user": {
      "displayName": "白曜瑋",
      "photoUrl": "",
      "userId": "08022902471796002564"
     },
     "user_tz": -480
    },
    "id": "nl2nREINDLiw"
   },
   "outputs": [],
   "source": [
    "%%capture\n",
    "from pyvirtualdisplay import Display\n",
    "virtual_display = Display(visible=0, size=(1400, 900))\n",
    "virtual_display.start()\n",
    "\n",
    "%matplotlib inline\n",
    "import matplotlib.pyplot as plt\n",
    "\n",
    "from IPython import display\n",
    "\n",
    "import numpy as np\n",
    "import torch\n",
    "import torch.nn as nn\n",
    "import torch.optim as optim\n",
    "import torch.nn.functional as F\n",
    "from torch.distributions import Categorical\n",
    "from tqdm.notebook import tqdm"
   ]
  },
  {
   "attachments": {},
   "cell_type": "markdown",
   "metadata": {
    "id": "HVu9-Vdrl4E3"
   },
   "source": [
    "# 請不要更改 random seed !!!!\n",
    "# 不然在judgeboi上 你的成績不會被reproduce !!!!"
   ]
  },
  {
   "cell_type": "code",
   "execution_count": 6,
   "metadata": {
    "executionInfo": {
     "elapsed": 84,
     "status": "ok",
     "timestamp": 1622991992713,
     "user": {
      "displayName": "白曜瑋",
      "photoUrl": "",
      "userId": "08022902471796002564"
     },
     "user_tz": -480
    },
    "id": "fV9i8i2YkRbO"
   },
   "outputs": [],
   "source": [
    "seed = 2023 # Do not change this\n",
    "def fix(env, seed):\n",
    "  env.seed(seed)\n",
    "  env.action_space.seed(seed)\n",
    "  torch.backends.cudnn.deterministic = True\n",
    "  torch.backends.cudnn.benchmark = False\n",
    "  np.random.seed(seed)\n",
    "  torch.manual_seed(seed)\n",
    "  if torch.cuda.is_available():\n",
    "      torch.cuda.manual_seed_all(seed)"
   ]
  },
  {
   "attachments": {},
   "cell_type": "markdown",
   "metadata": {
    "id": "He0XDx6bzjgC"
   },
   "source": [
    "最後，引入 OpenAI 的 gym，並建立一個 [Lunar Lander](https://gym.openai.com/envs/LunarLander-v2/) 環境。"
   ]
  },
  {
   "cell_type": "code",
   "execution_count": 7,
   "metadata": {
    "executionInfo": {
     "elapsed": 83,
     "status": "ok",
     "timestamp": 1622991992713,
     "user": {
      "displayName": "白曜瑋",
      "photoUrl": "",
      "userId": "08022902471796002564"
     },
     "user_tz": -480
    },
    "id": "N_4-xJcbBt09"
   },
   "outputs": [],
   "source": [
    "%%capture\n",
    "import gym\n",
    "import random\n",
    "\n",
    "env = gym.make('LunarLander-v2')\n",
    "\n",
    "fix(env, seed)"
   ]
  },
  {
   "attachments": {},
   "cell_type": "markdown",
   "metadata": {
    "id": "NrkVvTrvWZ5H"
   },
   "source": [
    "## 什麼是 Lunar Lander？\n",
    "\n",
    "“LunarLander-v2” 這個環境是在模擬登月小艇降落在月球表面時的情形。\n",
    "這個任務的目標是讓登月小艇「安全地」降落在兩個黃色旗幟間的平地上。\n",
    "> Landing pad is always at coordinates (0,0).\n",
    "> Coordinates are the first two numbers in state vector.\n",
    "\n",
    "![](https://gym.openai.com/assets/docs/aeloop-138c89d44114492fd02822303e6b4b07213010bb14ca5856d2d49d6b62d88e53.svg)\n",
    "\n",
    "所謂的「環境」其實同時包括了 agent 和 environment。\n",
    "我們利用 `step()` 這個函式讓 agent 行動，而後函式便會回傳 environment 給予的 observation/state（以下這兩個名詞代表同樣的意思）和 reward。"
   ]
  },
  {
   "attachments": {},
   "cell_type": "markdown",
   "metadata": {
    "id": "bIbp82sljvAt"
   },
   "source": [
    "### Observation / State\n",
    "\n",
    "首先，我們可以看看 environment 回傳給 agent 的 observation 究竟是長什麼樣子的資料："
   ]
  },
  {
   "cell_type": "code",
   "execution_count": 9,
   "metadata": {
    "colab": {
     "base_uri": "https://localhost:8080/"
    },
    "executionInfo": {
     "elapsed": 83,
     "status": "ok",
     "timestamp": 1622991992715,
     "user": {
      "displayName": "白曜瑋",
      "photoUrl": "",
      "userId": "08022902471796002564"
     },
     "user_tz": -480
    },
    "id": "rsXZra3N9R5T",
    "outputId": "f811e8c2-3bb8-403d-b79e-aa65e4eff691"
   },
   "outputs": [
    {
     "name": "stdout",
     "output_type": "stream",
     "text": [
      "Box(-inf, inf, (8,), float32)\n"
     ]
    }
   ],
   "source": [
    "print(env.observation_space)"
   ]
  },
  {
   "attachments": {},
   "cell_type": "markdown",
   "metadata": {
    "id": "ezdfoThbAQ49"
   },
   "source": [
    "`Box(8,)` 說明我們會拿到 8 維的向量作為 observation，其中包含：垂直及水平座標、速度、角度、加速度等等，這部分我們就不細說。\n",
    "> State has 8 components: horizontal and vertical position, horizontal and vertical velocity, angle and angular velocity, and left and right leg contact\n",
    "### Action\n",
    "\n",
    "而在 agent 得到 observation 和 reward 以後，能夠採取的動作有："
   ]
  },
  {
   "cell_type": "code",
   "execution_count": 10,
   "metadata": {
    "colab": {
     "base_uri": "https://localhost:8080/"
    },
    "executionInfo": {
     "elapsed": 83,
     "status": "ok",
     "timestamp": 1622991992716,
     "user": {
      "displayName": "白曜瑋",
      "photoUrl": "",
      "userId": "08022902471796002564"
     },
     "user_tz": -480
    },
    "id": "p1k4dIrBAaKi",
    "outputId": "31d17754-f833-4e49-87d8-cb83e2a8985c"
   },
   "outputs": [
    {
     "name": "stdout",
     "output_type": "stream",
     "text": [
      "Discrete(4)\n"
     ]
    }
   ],
   "source": [
    "print(env.action_space)"
   ]
  },
  {
   "attachments": {},
   "cell_type": "markdown",
   "metadata": {
    "id": "dejXT6PHBrPn"
   },
   "source": [
    "`Discrete(4)` 說明 agent 可以採取四種離散的行動：\n",
    "- 0 代表不採取任何行動\n",
    "- 2 代表主引擎向下噴射\n",
    "- 1, 3 則是向左右噴射\n",
    "\n",
    "接下來，我們嘗試讓 agent 與 environment 互動。\n",
    "在進行任何操作前，建議先呼叫 `reset()` 函式讓整個「環境」重置。\n",
    "而這個函式同時會回傳「環境」最初始的狀態。"
   ]
  },
  {
   "cell_type": "code",
   "execution_count": 11,
   "metadata": {
    "colab": {
     "base_uri": "https://localhost:8080/"
    },
    "executionInfo": {
     "elapsed": 71,
     "status": "ok",
     "timestamp": 1622991992716,
     "user": {
      "displayName": "白曜瑋",
      "photoUrl": "",
      "userId": "08022902471796002564"
     },
     "user_tz": -480
    },
    "id": "pi4OmrmZgnWA",
    "outputId": "4e9a1751-6e75-43f3-8b7b-ce64de303cad"
   },
   "outputs": [
    {
     "name": "stdout",
     "output_type": "stream",
     "text": [
      "[ 0.00396109  1.4083536   0.40119505 -0.11407257 -0.00458307 -0.09087662\n",
      "  0.          0.        ]\n"
     ]
    }
   ],
   "source": [
    "initial_state = env.reset()\n",
    "print(initial_state)"
   ]
  },
  {
   "attachments": {},
   "cell_type": "markdown",
   "metadata": {
    "id": "uBx0mEqqgxJ9"
   },
   "source": [
    "接著，我們試著從 agent 的四種行動空間中，隨機採取一個行動"
   ]
  },
  {
   "cell_type": "code",
   "execution_count": 12,
   "metadata": {
    "colab": {
     "base_uri": "https://localhost:8080/"
    },
    "executionInfo": {
     "elapsed": 59,
     "status": "ok",
     "timestamp": 1622991992717,
     "user": {
      "displayName": "白曜瑋",
      "photoUrl": "",
      "userId": "08022902471796002564"
     },
     "user_tz": -480
    },
    "id": "vxkOEXRKgizt",
    "outputId": "c4fc28bd-b61a-4d8e-d58a-2fa65ce8210d",
    "scrolled": true
   },
   "outputs": [
    {
     "name": "stdout",
     "output_type": "stream",
     "text": [
      "0\n"
     ]
    }
   ],
   "source": [
    "random_action = env.action_space.sample()\n",
    "print(random_action)"
   ]
  },
  {
   "attachments": {},
   "cell_type": "markdown",
   "metadata": {
    "id": "mns-bO01g0-J"
   },
   "source": [
    "再利用 `step()` 函式讓 agent 根據我們隨機抽樣出來的 `random_action` 動作。\n",
    "而這個函式會回傳四項資訊：\n",
    "- observation / state\n",
    "- reward\n",
    "- 完成與否\n",
    "- 其餘資訊"
   ]
  },
  {
   "cell_type": "code",
   "execution_count": 13,
   "metadata": {
    "executionInfo": {
     "elapsed": 48,
     "status": "ok",
     "timestamp": 1622991992717,
     "user": {
      "displayName": "白曜瑋",
      "photoUrl": "",
      "userId": "08022902471796002564"
     },
     "user_tz": -480
    },
    "id": "E_WViSxGgIk9"
   },
   "outputs": [],
   "source": [
    "observation, reward, done, info = env.step(random_action)"
   ]
  },
  {
   "attachments": {},
   "cell_type": "markdown",
   "metadata": {
    "id": "FdieGq7NuBIm"
   },
   "source": [
    "第一項資訊 `observation` 即為 agent 採取行動之後，agent 對於環境的 observation 或者說環境的 state 為何。\n",
    "而第三項資訊 `done` 則是 `True` 或 `False` 的布林值，當登月小艇成功著陸或是不幸墜毀時，代表這個回合（episode）也就跟著結束了，此時 `step()` 函式便會回傳 `done = True`，而在那之前，`done` 則保持 `False`。"
   ]
  },
  {
   "cell_type": "code",
   "execution_count": 15,
   "metadata": {
    "colab": {
     "base_uri": "https://localhost:8080/"
    },
    "executionInfo": {
     "elapsed": 36,
     "status": "ok",
     "timestamp": 1622991992718,
     "user": {
      "displayName": "白曜瑋",
      "photoUrl": "",
      "userId": "08022902471796002564"
     },
     "user_tz": -480
    },
    "id": "yK7r126kuCNp",
    "outputId": "f11e92e3-42e0-4f72-d6e0-1b463b7d4aad"
   },
   "outputs": [
    {
     "name": "stdout",
     "output_type": "stream",
     "text": [
      "False\n"
     ]
    }
   ],
   "source": [
    "print(done)"
   ]
  },
  {
   "attachments": {},
   "cell_type": "markdown",
   "metadata": {
    "id": "GKdS8vOihxhc"
   },
   "source": [
    "### Reward\n",
    "\n",
    "而「環境」給予的 reward 大致是這樣計算：\n",
    "- 小艇墜毀得到 -100 分\n",
    "- 小艇在黃旗幟之間成功著地則得 100~140 分\n",
    "- 噴射主引擎（向下噴火）每次 -0.3 分\n",
    "- 小艇最終完全靜止則再得 100 分\n",
    "- 小艇每隻腳碰觸地面 +10 分\n",
    "\n",
    "> Reward for moving from the top of the screen to landing pad and zero speed is about 100..140 points.\n",
    "> If lander moves away from landing pad it loses reward back.\n",
    "> Episode finishes if the lander crashes or comes to rest, receiving additional -100 or +100 points.\n",
    "> Each leg ground contact is +10.\n",
    "> Firing main engine is -0.3 points each frame.\n"
   ]
  },
  {
   "cell_type": "code",
   "execution_count": 16,
   "metadata": {
    "colab": {
     "base_uri": "https://localhost:8080/"
    },
    "executionInfo": {
     "elapsed": 25,
     "status": "ok",
     "timestamp": 1622991992719,
     "user": {
      "displayName": "白曜瑋",
      "photoUrl": "",
      "userId": "08022902471796002564"
     },
     "user_tz": -480
    },
    "id": "vxQNs77hi0_7",
    "outputId": "52a2ce24-4a66-41e7-95aa-46221072f67b"
   },
   "outputs": [
    {
     "name": "stdout",
     "output_type": "stream",
     "text": [
      "-0.8588900517154912\n"
     ]
    }
   ],
   "source": [
    "print(reward) # after doing a random action (0), the immediate reward is stored in this "
   ]
  },
  {
   "attachments": {},
   "cell_type": "markdown",
   "metadata": {
    "id": "Mhqp6D-XgHpe"
   },
   "source": [
    "### Random Agent\n",
    "\n",
    "最後，在進入實做之前，我們就來看看這樣一個 random agent 能否成功登陸月球："
   ]
  },
  {
   "cell_type": "code",
   "execution_count": 17,
   "metadata": {
    "colab": {
     "base_uri": "https://localhost:8080/",
     "height": 269
    },
    "executionInfo": {
     "elapsed": 10436,
     "status": "ok",
     "timestamp": 1622992003142,
     "user": {
      "displayName": "白曜瑋",
      "photoUrl": "",
      "userId": "08022902471796002564"
     },
     "user_tz": -480
    },
    "id": "Y3G0bxoccelv",
    "outputId": "2d473ea0-eef1-4cb6-ab6a-0b70f04159e5"
   },
   "outputs": [
    {
     "data": {
      "image/png": "[encoded data removed]",
      "text/plain": [
       "<Figure size 432x288 with 1 Axes>"
      ]
     },
     "metadata": {
      "needs_background": "light",
      "tags": []
     },
     "output_type": "display_data"
    }
   ],
   "source": [
    "env.reset()\n",
    "\n",
    "img = plt.imshow(env.render(mode='rgb_array'))\n",
    "\n",
    "done = False\n",
    "while not done:\n",
    "    action = env.action_space.sample()\n",
    "    observation, reward, done, _ = env.step(action)\n",
    "\n",
    "    img.set_data(env.render(mode='rgb_array'))\n",
    "    display.display(plt.gcf())\n",
    "    display.clear_output(wait=True)"
   ]
  },
  {
   "attachments": {},
   "cell_type": "markdown",
   "metadata": {
    "id": "F5paWqo7tWL2"
   },
   "source": [
    "# DQN\n",
    "\n",
    "現在來搭建一個簡單的 policy network。\n",
    "我們預設模型的輸入是 8-dim 的 observation，輸出則是離散的四個動作之一："
   ]
  },
  {
   "cell_type": "code",
   "execution_count": 18,
   "metadata": {
    "executionInfo": {
     "elapsed": 10,
     "status": "ok",
     "timestamp": 1622992003143,
     "user": {
      "displayName": "白曜瑋",
      "photoUrl": "",
      "userId": "08022902471796002564"
     },
     "user_tz": -480
    },
    "id": "J8tdmeD-tZew"
   },
   "outputs": [],
   "source": [
    "class DQN(nn.Module):\n",
    "    def __init__(self, state_size=8, action_size=4, fc1_units=64, fc2_units=64):\n",
    "        super(DQN, self).__init__()\n",
    "        self.fc1 = nn.Linear(state_size, fc1_units)\n",
    "        self.fc2 = nn.Linear(fc1_units, fc2_units)\n",
    "        self.fc3 = nn.Linear(fc2_units, action_size)\n",
    "\n",
    "    def forward(self, state):\n",
    "        x = F.relu(self.fc1(state))\n",
    "        x = F.relu(self.fc2(x))\n",
    "        return self.fc3(x)"
   ]
  },
  {
   "attachments": {},
   "cell_type": "markdown",
   "metadata": {
    "id": "ynbqJrhIFTC3"
   },
   "source": [
    "再來，搭建一個簡單的 agent，並搭配上方的 policy network 來採取行動。\n",
    "這個 agent 能做到以下幾件事：\n",
    "- `learn()`：從記下來的 log probabilities 及 rewards 來更新 policy network。\n",
    "- `sample()`：從 environment 得到 observation 之後，利用 policy network 得出應該採取的行動。\n",
    "而此函式除了回傳抽樣出來的 action，也會回傳此次抽樣的 log probabilities。"
   ]
  },
  {
   "cell_type": "code",
   "execution_count": 19,
   "metadata": {
    "executionInfo": {
     "elapsed": 10,
     "status": "ok",
     "timestamp": 1622992003144,
     "user": {
      "displayName": "白曜瑋",
      "photoUrl": "",
      "userId": "08022902471796002564"
     },
     "user_tz": -480
    },
    "id": "d3SSjdnNIlCw"
   },
   "outputs": [],
   "source": [
    "from collections import namedtuple\n",
    "\n",
    "class ReplayMemory:\n",
    "    \"\"\"Fixed-size buffer to store experience tuples.\"\"\"\n",
    "    def __init__(self, CAPACITY):\n",
    "        self.capacity = CAPACITY  \n",
    "        self.memory = []  \n",
    "        self.index = 0  \n",
    "        self.transition = namedtuple('Transition', ('state', 'action', 'next_state', 'reward'))\n",
    "        \n",
    "    def push(self, state, action, state_next, reward):\n",
    "        \"\"\"Push a new experience to memory.\"\"\"\n",
    "        if len(self.memory) < self.capacity: # if still has capacity, initialize memory[index] to None\n",
    "            self.memory.append(None)\n",
    "\n",
    "        self.memory[self.index] = self.transition(state, action, state_next, reward)\n",
    "\n",
    "        self.index = (self.index + 1) % self.capacity  # circular index\n",
    "\n",
    "    def sample(self, batch_size):\n",
    "        \"\"\"Randomly sample a batch of experiences from memory.\"\"\"\n",
    "        return random.sample(self.memory, batch_size)\n",
    "\n",
    "    def __len__(self):\n",
    "        \"\"\"Return the current size of internal memory.\"\"\"\n",
    "        return len(self.memory)"
   ]
  },
  {
   "cell_type": "code",
   "execution_count": 20,
   "metadata": {
    "executionInfo": {
     "elapsed": 9,
     "status": "ok",
     "timestamp": 1622992003144,
     "user": {
      "displayName": "白曜瑋",
      "photoUrl": "",
      "userId": "08022902471796002564"
     },
     "user_tz": -480
    },
    "id": "zZo-IxJx286z"
   },
   "outputs": [],
   "source": [
    "class DQNAgent():\n",
    "    \"\"\"Interacts with and learns from the environment.\"\"\"\n",
    "    def __init__(self, num_states, num_actions):\n",
    "        \"\"\"Initialize an Agent object.\"\"\"\n",
    "        \n",
    "        self.num_states = num_states\n",
    "        self.num_actions = num_actions\n",
    "        \n",
    "        # Replay memory\n",
    "        self.memory_capacity = 10000\n",
    "        self.memory = ReplayMemory(self.memory_capacity)\n",
    "        \n",
    "        # Q-Network\n",
    "        self.main_q_network = DQN() \n",
    "        self.target_q_network = DQN()\n",
    "        \n",
    "        # optimizer\n",
    "        self.optimizer = optim.RMSprop(self.main_q_network.parameters(), lr=1e-4)\n",
    "    \n",
    "    def update_q_function(self):\n",
    "        '''update q function'''\n",
    "        \n",
    "        # no enough samples, just return\n",
    "        if len(self.memory) < BATCH_SIZE:\n",
    "            return\n",
    "        # If enough samples are available in memory, get random subset and learn\n",
    "        self.batch, self.state_batch, self.action_batch, self.reward_batch, self.non_final_next_states = self.make_minibatch()\n",
    "        \n",
    "        self.expected_state_action_values = self.get_expected_state_action_values()\n",
    "\n",
    "        self.update_main_q_network()\n",
    "\n",
    "    def make_minibatch(self):\n",
    "        '''Creating a mini-batch'''\n",
    "\n",
    "        transitions = self.memory.sample(BATCH_SIZE)\n",
    "\n",
    "        Transition = namedtuple('Transition', ('state', 'action', 'next_state', 'reward'))\n",
    "        batch = Transition(*zip(*transitions))\n",
    "\n",
    "\n",
    "        state_batch = torch.cat(batch.state)\n",
    "        action_batch = torch.cat(batch.action)\n",
    "        reward_batch = torch.cat(batch.reward)\n",
    "        non_final_next_states = torch.cat([s for s in batch.next_state\n",
    "                                           if s is not None])\n",
    "\n",
    "        return batch, state_batch, action_batch, reward_batch, non_final_next_states\n",
    "\n",
    "    def get_expected_state_action_values(self):\n",
    "        '''calculate Q（St,at）'''\n",
    "\n",
    "        self.main_q_network.eval()\n",
    "        self.target_q_network.eval()\n",
    "\n",
    "        self.state_action_values = self.main_q_network(\n",
    "            self.state_batch).gather(1, self.action_batch)\n",
    "\n",
    "        non_final_mask = torch.BoolTensor(tuple(map(lambda s: s is not None,\n",
    "                                                    self.batch.next_state)))\n",
    "        # set all state to 0\n",
    "        next_state_values = torch.zeros(BATCH_SIZE)\n",
    "\n",
    "        next_state_values[non_final_mask] = self.target_q_network(\n",
    "            self.non_final_next_states).max(1)[0].detach()\n",
    "        # DQN formula\n",
    "        expected_state_action_values = self.reward_batch + GAMMA * next_state_values\n",
    "        \n",
    "        return expected_state_action_values \n",
    "        \n",
    "    def get_action(self, state, episode, test=False):\n",
    "        \"\"\"Returns actions for given state as per current policy.\"\"\"\n",
    "        if test:\n",
    "            self.main_q_network.eval()\n",
    "            with torch.no_grad():\n",
    "                # t.max(1) will return largest column value of each row.\n",
    "                # second column on max result is index of where max element was\n",
    "                # found, so we pick action with the larger expected reward.\n",
    "                action = self.main_q_network(torch.from_numpy(state).unsqueeze(0)).max(1)[1].view(1, 1)\n",
    "            return action.item()\n",
    "        \n",
    "        global steps_done\n",
    "        # Epsilon-greedy policy\n",
    "        #epsilon = episode\n",
    "        #epsilon = 0.5 * (1 / (episode + 1))\n",
    "        epsilon = EPS_END + (EPS_START - EPS_END) * \\\n",
    "                np.exp(-1. * steps_done / EPS_DECAY)\n",
    "        #print('epsilon', epsilon)\n",
    "        \n",
    "        steps_done += 1\n",
    "        \n",
    "        if epsilon <= np.random.uniform(0, 1):\n",
    "            #print('use max')\n",
    "            self.main_q_network.eval()\n",
    "            with torch.no_grad():\n",
    "                # t.max(1) will return largest column value of each row.\n",
    "                # second column on max result is index of where max element was\n",
    "                # found, so we pick action with the larger expected reward.\n",
    "                action = self.main_q_network(state).max(1)[1].view(1, 1)\n",
    "        else:\n",
    "            #print('random')\n",
    "            action = torch.LongTensor(\n",
    "                [[random.randrange(self.num_actions)]])  \n",
    "            \n",
    "        return action\n",
    "\n",
    "    def update_main_q_network(self):\n",
    "        \n",
    "        '''update main q net'''\n",
    "\n",
    "        # set train mode\n",
    "        self.main_q_network.train()\n",
    "        # Hurberloss function\n",
    "        # expected_state_action_values (minbatch,)->(minbatchx1)\n",
    "\n",
    "        loss = F.smooth_l1_loss(self.state_action_values,\n",
    "                                self.expected_state_action_values.unsqueeze(1))\n",
    "\n",
    "        # update\n",
    "        self.optimizer.zero_grad()  # reset gradient\n",
    "        loss.backward()  # backpropagation\n",
    "        for param in self.main_q_network.parameters():\n",
    "            param.grad.data.clamp_(-1, 1)\n",
    "        self.optimizer.step()  # update network\n",
    "\n",
    "\n",
    "    def memorize(self, state, action, state_next, reward):\n",
    "        '''save state, action, state_next, reward into replay memory'''\n",
    "        self.memory.push(state, action, state_next, reward)\n",
    "\n",
    "    def update_target_q_function(self):\n",
    "        \n",
    "        '''synchronize Target Q-Network to Main Q-Network'''\n",
    "        self.target_q_network.load_state_dict(self.main_q_network.state_dict())  "
   ]
  },
  {
   "attachments": {},
   "cell_type": "markdown",
   "metadata": {
    "id": "ehPlnTKyRZf9"
   },
   "source": [
    "最後，建立一個 network 和 agent，就可以開始進行訓練了。"
   ]
  },
  {
   "cell_type": "code",
   "execution_count": 21,
   "metadata": {
    "executionInfo": {
     "elapsed": 8,
     "status": "ok",
     "timestamp": 1622992003145,
     "user": {
      "displayName": "白曜瑋",
      "photoUrl": "",
      "userId": "08022902471796002564"
     },
     "user_tz": -480
    },
    "id": "GfJIvML-RYjL"
   },
   "outputs": [],
   "source": [
    "network = DQN()\n",
    "agent = DQNAgent(env.observation_space.shape[0], env.action_space.n)"
   ]
  },
  {
   "attachments": {},
   "cell_type": "markdown",
   "metadata": {
    "id": "ouv23glgf5Qt"
   },
   "source": [
    "## 訓練 Agent\n",
    "\n",
    "現在我們開始訓練 agent。\n",
    "透過讓 agent 和 environment 互動，我們記住每一組對應的 log probabilities 及 reward，並在成功登陸或者不幸墜毀後，回放這些「記憶」來訓練 policy network。"
   ]
  },
  {
   "cell_type": "code",
   "execution_count": null,
   "metadata": {
    "colab": {
     "base_uri": "https://localhost:8080/",
     "height": 1000,
     "referenced_widgets": [
      "933a3ea3831648e4bcb7079e47580691",
      "ca77cc53f271432ca4f311eb34098250",
      "09d8700c082848af8328d746998e721b",
      "4aef868dce034f94a52ce46fd19cbc88",
      "98c7bd45812b402d95230e781fb7cfec",
      "976ca84aba354ed1ad46487b9e91c8ea",
      "88588620a2314c1b87eb37a1a84b0a7c",
      "cf7ecf87efa5404982dc47579d1275cb"
     ]
    },
    "executionInfo": {
     "elapsed": 3842984,
     "status": "ok",
     "timestamp": 1622995846121,
     "user": {
      "displayName": "白曜瑋",
      "photoUrl": "",
      "userId": "08022902471796002564"
     },
     "user_tz": -480
    },
    "id": "vg5rxBBaf38_",
    "outputId": "9b35607a-0186-45b8-8496-a00e73d88671",
    "scrolled": true
   },
   "outputs": [],
   "source": [
    "EPISODE_PER_BATCH = 5  # 每蒐集 5 個 episodes 更新一次 agent\n",
    "NUM_BATCH = 600        # 總共更新 400 次\n",
    "BATCH_SIZE = 32\n",
    "GAMMA = 0.99\n",
    "EPS_START = 0.9\n",
    "EPS_END = 0.05\n",
    "EPS_DECAY = 200\n",
    "\n",
    "best_score = 0\n",
    "best_batch = 0\n",
    "\n",
    "# 訓練前，先確保 network 處在 training 模式\n",
    "agent.main_q_network.train()\n",
    "agent.target_q_network.train()\n",
    "steps_done = 0\n",
    "\n",
    "avg_total_rewards, avg_final_rewards = [], []\n",
    "\n",
    "prg_bar = tqdm(range(NUM_BATCH))\n",
    "for batch in prg_bar:\n",
    "\n",
    "    rewards = []\n",
    "    total_rewards, final_rewards = [], []\n",
    "\n",
    "    # 蒐集訓練資料\n",
    "    for episode in range(EPISODE_PER_BATCH):\n",
    "        \n",
    "        observation = env.reset() # 環境的初始化\n",
    "        state = observation  # 將觀測結果直接當成狀態s使用\n",
    "        state = torch.from_numpy(state).type(\n",
    "                torch.FloatTensor)  # 將NumPy變數轉換成PyTorch的張量\n",
    "        state = torch.unsqueeze(state, 0)  # 將size 4轉換成size 1x4\n",
    "        total_reward, total_step = 0, 0\n",
    "\n",
    "        while True:\n",
    "\n",
    "            action = agent.get_action(state, batch)  # 求出動作\n",
    "            # 執行動作a_t後，算出s_{t+1}與done旗標\n",
    "            # 根據action指定.item()、再取得內容\n",
    "            observation_next, reward, done, _ = env.step(action.item())  # 不會用到info，所以設定為_\n",
    "\n",
    "            total_reward += reward\n",
    "            total_step += 1\n",
    "            rewards.append(reward) #改這裡\n",
    "            # ! 重要 ！\n",
    "            # 現在的reward 的implementation 為每個時刻的瞬時reward, 給定action_list : a1, a2, a3 ......\n",
    "            #                                                       reward :     r1, r2 ,r3 ......\n",
    "            # medium：將reward調整成accumulative decaying reward, 給定action_list : a1,                         a2,                           a3 ......\n",
    "            #                                                       reward :     r1+0.99*r2+0.99^2*r3+......, r2+0.99*r3+0.99^2*r4+...... ,r3+0.99*r4+0.99^2*r5+ ......\n",
    "            # boss : implement DQN\n",
    "            if done:\n",
    "                state_next = None  # 沒有下個狀態，所以存入None\n",
    "\n",
    "            else:\n",
    "                state_next = observation_next  # 直接將觀測結果當成狀態使用\n",
    "                state_next = torch.from_numpy(state_next).type(\n",
    "                        torch.FloatTensor)  # 將numpy變數轉換成PyTorch的張量\n",
    "                state_next = torch.unsqueeze(state_next, 0)  # 將size 4轉換成size 1x4\n",
    "                \n",
    "            # 將學習經驗存入記憶體\n",
    "            agent.memorize(state, action, state_next, torch.FloatTensor([reward]))\n",
    "            \n",
    "            # 以Experience Replay更新Q函數\n",
    "            agent.update_q_function()\n",
    "            \n",
    "            # 觀測狀態的更新\n",
    "            state = state_next\n",
    "            \n",
    "            # 結束時的處理\n",
    "            if done:\n",
    "                final_rewards.append(reward)\n",
    "                total_rewards.append(total_reward)\n",
    "                break\n",
    "                \n",
    "\n",
    "    #print(f\"rewards looks like \", np.shape(rewards))      \n",
    "    # 紀錄訓練過程\n",
    "    avg_total_reward = sum(total_rewards) / len(total_rewards)\n",
    "    avg_final_reward = sum(final_rewards) / len(final_rewards)\n",
    "    avg_total_rewards.append(avg_total_reward)\n",
    "    avg_final_rewards.append(avg_final_reward)\n",
    "    prg_bar.set_description(f\"Total: {avg_total_reward: 4.1f}, Final: {avg_final_reward: 4.1f}\")\n",
    "\n",
    "    # 更新網路\n",
    "    # rewards = np.concatenate(rewards, axis=0)\n",
    "    #rewards = (rewards - np.mean(rewards)) / (np.std(rewards) + 1e-9)  # 將 reward 正規標準化\n",
    "    agent.update_target_q_function()\n",
    "    print(\"torch.from_numpy(rewards) looks like \", torch.from_numpy(np.array(rewards)).size())\n",
    "\n",
    "\n",
    "    ### testing\n",
    "\n",
    "    fix(env, seed)\n",
    "    agent.main_q_network.eval()  # 測試前先將 network 切換為 evaluation 模式\n",
    "    NUM_OF_TEST = 5 # Do not revise it !!!!!\n",
    "    test_total_reward = []\n",
    "    action_list = []\n",
    "    for i in range(NUM_OF_TEST):\n",
    "        actions = []\n",
    "        state = env.reset()\n",
    "\n",
    "        #img = plt.imshow(env.render(mode='rgb_array'))\n",
    "\n",
    "        total_reward = 0\n",
    "\n",
    "        done = False\n",
    "        while not done:\n",
    "            action = agent.get_action(state, episode=i, test=True)\n",
    "            actions.append(action)\n",
    "            state, reward, done, _ = env.step(action)\n",
    "\n",
    "            total_reward += reward\n",
    "\n",
    "            #img.set_data(env.render(mode='rgb_array'))\n",
    "            #display.display(plt.gcf())\n",
    "            #display.clear_output(wait=True)\n",
    "        print(total_reward)\n",
    "        test_total_reward.append(total_reward)\n",
    "\n",
    "        action_list.append(actions) #儲存你測試的結果\n",
    "        print(\"length of actions is \", len(actions))\n",
    "    print(f\"Your final reward is : %.2f\"%np.mean(test_total_reward))\n",
    "    if np.mean(test_total_reward) > 250:\n",
    "        distribution = {}\n",
    "        for actions in action_list:\n",
    "            for action in actions:\n",
    "                if action not in distribution.keys():\n",
    "                    distribution[action] = 1\n",
    "                else:\n",
    "                    distribution[action] += 1\n",
    "        PATH = \"Action_List_test\" + str(batch) + \".npy\" # 可以改成你想取的名字或路徑\n",
    "        np.save(PATH ,np.array(action_list)) \n",
    "        if np.mean(test_total_reward) > best_score:\n",
    "            best_score = np.mean(test_total_reward)\n",
    "            best_batch = batch\n",
    "            print('Improve to score %.2f at batch %d'% (best_score, best_batch ))"
   ]
  },
  {
   "attachments": {},
   "cell_type": "markdown",
   "metadata": {
    "id": "vNb_tuFYhKVK"
   },
   "source": [
    "### 訓練結果\n",
    "\n",
    "訓練過程中，我們持續記下了 `avg_total_reward`，這個數值代表的是：每次更新 policy network 前，我們讓 agent 玩數個回合（episodes），而這些回合的平均 total rewards 為何。\n",
    "理論上，若是 agent 一直在進步，則所得到的 `avg_total_reward` 也會持續上升，直至 250 上下。\n",
    "若將其畫出來則結果如下："
   ]
  },
  {
   "cell_type": "code",
   "execution_count": 23,
   "metadata": {
    "colab": {
     "base_uri": "https://localhost:8080/",
     "height": 281
    },
    "executionInfo": {
     "elapsed": 44,
     "status": "ok",
     "timestamp": 1622995846123,
     "user": {
      "displayName": "白曜瑋",
      "photoUrl": "",
      "userId": "08022902471796002564"
     },
     "user_tz": -480
    },
    "id": "wZYOI8H10SHN",
    "outputId": "99efb48d-4b6b-4d14-9142-daf0b0fd6a80"
   },
   "outputs": [
    {
     "data": {
      "image/png": "[encoded data removed]",
      "text/plain": [
       "<Figure size 432x288 with 1 Axes>"
      ]
     },
     "metadata": {
      "needs_background": "light",
      "tags": []
     },
     "output_type": "display_data"
    }
   ],
   "source": [
    "plt.plot(avg_total_rewards)\n",
    "plt.title(\"Total Rewards\")\n",
    "plt.show()"
   ]
  },
  {
   "attachments": {},
   "cell_type": "markdown",
   "metadata": {
    "id": "mV5jj4dThz0Y"
   },
   "source": [
    "另外，`avg_final_reward` 代表的是多個回合的平均 final rewards，而 final reward 即是 agent 在單一回合中拿到的最後一個 reward。\n",
    "如果同學們還記得環境給予登月小艇 reward 的方式，便會知道，不論**回合的最後**小艇是不幸墜毀、飛出畫面、或是靜止在地面上，都會受到額外地獎勵或處罰。\n",
    "也因此，final reward 可被用來觀察 agent 的「著地」是否順利等資訊。"
   ]
  },
  {
   "cell_type": "code",
   "execution_count": 24,
   "metadata": {
    "colab": {
     "base_uri": "https://localhost:8080/",
     "height": 281
    },
    "executionInfo": {
     "elapsed": 35,
     "status": "ok",
     "timestamp": 1622995846124,
     "user": {
      "displayName": "白曜瑋",
      "photoUrl": "",
      "userId": "08022902471796002564"
     },
     "user_tz": -480
    },
    "id": "txDZ5vlGWz5w",
    "outputId": "e0d49c30-d325-4796-8835-dfdbd21154c6"
   },
   "outputs": [
    {
     "data": {
      "image/png": "[encoded data removed]",
      "text/plain": [
       "<Figure size 432x288 with 1 Axes>"
      ]
     },
     "metadata": {
      "needs_background": "light",
      "tags": []
     },
     "output_type": "display_data"
    }
   ],
   "source": [
    "plt.plot(avg_final_rewards)\n",
    "plt.title(\"Final Rewards\")\n",
    "plt.show()"
   ]
  },
  {
   "attachments": {},
   "cell_type": "markdown",
   "metadata": {
    "id": "gyT7tNwkVdS-"
   },
   "source": [
    "訓練時間\n"
   ]
  },
  {
   "attachments": {},
   "cell_type": "markdown",
   "metadata": {
    "id": "seT4NUmWmAZ1"
   },
   "source": [
    "# Server 測試\n",
    "到時候下面會是我們Server上測試的環境，可以給大家看一下自己的表現如何"
   ]
  },
  {
   "cell_type": "code",
   "execution_count": 29,
   "metadata": {
    "colab": {
     "base_uri": "https://localhost:8080/",
     "height": 408
    },
    "executionInfo": {
     "elapsed": 1248,
     "status": "ok",
     "timestamp": 1622996464716,
     "user": {
      "displayName": "白曜瑋",
      "photoUrl": "",
      "userId": "08022902471796002564"
     },
     "user_tz": -480
    },
    "id": "U69c-YTxaw6b",
    "outputId": "5c004f64-b743-41d1-afa2-4b02ac279b2d"
   },
   "outputs": [
    {
     "name": "stderr",
     "output_type": "stream",
     "text": [
      "/usr/local/lib/python3.7/dist-packages/torch/__init__.py:422: UserWarning: torch.set_deterministic is deprecated and will be removed in a future release. Please use torch.use_deterministic_algorithms instead\n",
      "  \"torch.set_deterministic is deprecated and will be removed in a future \"\n"
     ]
    },
    {
     "name": "stdout",
     "output_type": "stream",
     "text": [
      "Your reward is : 265.14\n",
      "Your reward is : 304.10\n",
      "Your reward is : 254.52\n",
      "Your reward is : 307.27\n",
      "Your reward is : 303.36\n"
     ]
    },
    {
     "data": {
      "image/png": "[encoded data removed]",
      "text/plain": [
       "<Figure size 432x288 with 1 Axes>"
      ]
     },
     "metadata": {
      "needs_background": "light",
      "tags": []
     },
     "output_type": "display_data"
    }
   ],
   "source": [
    "PATH = \"Action_List_test\" + str(best_batch) + \".npy\"\n",
    "action_list = np.load(PATH,allow_pickle=True) #到時候你上傳的檔案\n",
    "seed = 2023 #到時候測試的seed 請不要更改\n",
    "fix(env, seed)\n",
    "\n",
    "#agent.network.eval()  # 測試前先將 network 切換為 evaluation 模式\n",
    "\n",
    "test_total_reward = []\n",
    "for actions in action_list:\n",
    "    state = env.reset()\n",
    "    img = plt.imshow(env.render(mode='rgb_array'))\n",
    "\n",
    "    total_reward = 0\n",
    "\n",
    "    done = False\n",
    "    # while not done:\n",
    "    done_count = 0\n",
    "    for action in actions:\n",
    "        # action, _ = agent1.sample(state)\n",
    "        state, reward, done, _ = env.step(action)\n",
    "        done_count += 1\n",
    "        total_reward += reward\n",
    "        if done:\n",
    "            break\n",
    "    #   img.set_data(env.render(mode='rgb_array'))\n",
    "    #   display.display(plt.gcf())\n",
    "    #   display.clear_output(wait=True)\n",
    "    print(f\"Your reward is : %.2f\"%total_reward)\n",
    "    test_total_reward.append(total_reward)"
   ]
  },
  {
   "attachments": {},
   "cell_type": "markdown",
   "metadata": {
    "id": "TjFBWwQP1hVe"
   },
   "source": [
    "# 你的成績"
   ]
  },
  {
   "cell_type": "code",
   "execution_count": 27,
   "metadata": {
    "colab": {
     "base_uri": "https://localhost:8080/"
    },
    "executionInfo": {
     "elapsed": 35,
     "status": "ok",
     "timestamp": 1622995846923,
     "user": {
      "displayName": "白曜瑋",
      "photoUrl": "",
      "userId": "08022902471796002564"
     },
     "user_tz": -480
    },
    "id": "GpJpZz3Wbm0X",
    "outputId": "1fddf04b-1f66-4ddd-e6a4-c4f3cfce8b0a"
   },
   "outputs": [
    {
     "name": "stdout",
     "output_type": "stream",
     "text": [
      "Your final reward is : 286.88\n"
     ]
    }
   ],
   "source": [
    "print(f\"Your final reward is : %.2f\"%np.mean(test_total_reward))"
   ]
  },
  {
   "attachments": {},
   "cell_type": "markdown",
   "metadata": {},
   "source": [
    "# Reference\n",
    "* https://github.com/ranjitation/DQN-for-LunarLander\n",
    "* https://github.com/udacity/deep-reinforcement-learning\n",
    "* https://github.com/openai/baselines\n",
    "* https://github.com/YutaroOgawa/Deep-Reinforcement-Learning-Book\n",
    "* https://pytorch.org/tutorials/intermediate/reinforcement_q_learning.html\n",
    "* https://titanwolf.org/Network/Articles/Article?AID=15c7d9d5-1a0a-41e8-96fb-23a900e10d3b#gsc.tab=0"
   ]
  },
  {
   "attachments": {},
   "cell_type": "markdown",
   "metadata": {
    "id": "wUBtYXG2eaqf"
   },
   "source": [
    "## 參考資料\n",
    "\n",
    "以下是一些有用的參考資料。\n",
    "建議同學們實做前，可以先參考第一則連結的上課影片。\n",
    "在影片的最後有提到兩個有用的 Tips，這對於本次作業的實做非常有幫助。\n",
    "\n",
    "- [DRL Lecture 1: Policy Gradient (Review)](https://youtu.be/z95ZYgPgXOY)\n",
    "- [ML Lecture 23-3: Reinforcement Learning (including Q-learning) start at 30:00](https://youtu.be/2-JNBzCq77c?t=1800)\n",
    "- [Lecture 7: Policy Gradient, David Silver](http://www0.cs.ucl.ac.uk/staff/d.silver/web/Teaching_files/pg.pdf)\n"
   ]
  }
 ],
 "metadata": {
  "accelerator": "GPU",
  "colab": {
   "collapsed_sections": [],
   "name": "hw12_dqn.ipynb",
   "provenance": []
  },
  "kernelspec": {
   "display_name": "Python 3",
   "language": "python",
   "name": "python3"
  },
  "language_info": {
   "codemirror_mode": {
    "name": "ipython",
    "version": 3
   },
   "file_extension": ".py",
   "mimetype": "text/x-python",
   "name": "python",
   "nbconvert_exporter": "python",
   "pygments_lexer": "ipython3",
   "version": "3.7.6"
  },
  "widgets": {
   "application/vnd.jupyter.widget-state+json": {
    "09d8700c082848af8328d746998e721b": {
     "model_module": "@jupyter-widgets/controls",
     "model_name": "FloatProgressModel",
     "state": {
      "_dom_classes": [],
      "_model_module": "@jupyter-widgets/controls",
      "_model_module_version": "1.5.0",
      "_model_name": "FloatProgressModel",
      "_view_count": null,
      "_view_module": "@jupyter-widgets/controls",
      "_view_module_version": "1.5.0",
      "_view_name": "ProgressView",
      "bar_style": "success",
      "description": "Total:  250.4, Final:  100.0: 100%",
      "description_tooltip": null,
      "layout": "IPY_MODEL_976ca84aba354ed1ad46487b9e91c8ea",
      "max": 600,
      "min": 0,
      "orientation": "horizontal",
      "style": "IPY_MODEL_98c7bd45812b402d95230e781fb7cfec",
      "value": 600
     }
    },
    "4aef868dce034f94a52ce46fd19cbc88": {
     "model_module": "@jupyter-widgets/controls",
     "model_name": "HTMLModel",
     "state": {
      "_dom_classes": [],
      "_model_module": "@jupyter-widgets/controls",
      "_model_module_version": "1.5.0",
      "_model_name": "HTMLModel",
      "_view_count": null,
      "_view_module": "@jupyter-widgets/controls",
      "_view_module_version": "1.5.0",
      "_view_name": "HTMLView",
      "description": "",
      "description_tooltip": null,
      "layout": "IPY_MODEL_cf7ecf87efa5404982dc47579d1275cb",
      "placeholder": "​",
      "style": "IPY_MODEL_88588620a2314c1b87eb37a1a84b0a7c",
      "value": " 600/600 [1:04:02&lt;00:00,  6.40s/it]"
     }
    },
    "88588620a2314c1b87eb37a1a84b0a7c": {
     "model_module": "@jupyter-widgets/controls",
     "model_name": "DescriptionStyleModel",
     "state": {
      "_model_module": "@jupyter-widgets/controls",
      "_model_module_version": "1.5.0",
      "_model_name": "DescriptionStyleModel",
      "_view_count": null,
      "_view_module": "@jupyter-widgets/base",
      "_view_module_version": "1.2.0",
      "_view_name": "StyleView",
      "description_width": ""
     }
    },
    "933a3ea3831648e4bcb7079e47580691": {
     "model_module": "@jupyter-widgets/controls",
     "model_name": "HBoxModel",
     "state": {
      "_dom_classes": [],
      "_model_module": "@jupyter-widgets/controls",
      "_model_module_version": "1.5.0",
      "_model_name": "HBoxModel",
      "_view_count": null,
      "_view_module": "@jupyter-widgets/controls",
      "_view_module_version": "1.5.0",
      "_view_name": "HBoxView",
      "box_style": "",
      "children": [
       "IPY_MODEL_09d8700c082848af8328d746998e721b",
       "IPY_MODEL_4aef868dce034f94a52ce46fd19cbc88"
      ],
      "layout": "IPY_MODEL_ca77cc53f271432ca4f311eb34098250"
     }
    },
    "976ca84aba354ed1ad46487b9e91c8ea": {
     "model_module": "@jupyter-widgets/base",
     "model_name": "LayoutModel",
     "state": {
      "_model_module": "@jupyter-widgets/base",
      "_model_module_version": "1.2.0",
      "_model_name": "LayoutModel",
      "_view_count": null,
      "_view_module": "@jupyter-widgets/base",
      "_view_module_version": "1.2.0",
      "_view_name": "LayoutView",
      "align_content": null,
      "align_items": null,
      "align_self": null,
      "border": null,
      "bottom": null,
      "display": null,
      "flex": null,
      "flex_flow": null,
      "grid_area": null,
      "grid_auto_columns": null,
      "grid_auto_flow": null,
      "grid_auto_rows": null,
      "grid_column": null,
      "grid_gap": null,
      "grid_row": null,
      "grid_template_areas": null,
      "grid_template_columns": null,
      "grid_template_rows": null,
      "height": null,
      "justify_content": null,
      "justify_items": null,
      "left": null,
      "margin": null,
      "max_height": null,
      "max_width": null,
      "min_height": null,
      "min_width": null,
      "object_fit": null,
      "object_position": null,
      "order": null,
      "overflow": null,
      "overflow_x": null,
      "overflow_y": null,
      "padding": null,
      "right": null,
      "top": null,
      "visibility": null,
      "width": null
     }
    },
    "98c7bd45812b402d95230e781fb7cfec": {
     "model_module": "@jupyter-widgets/controls",
     "model_name": "ProgressStyleModel",
     "state": {
      "_model_module": "@jupyter-widgets/controls",
      "_model_module_version": "1.5.0",
      "_model_name": "ProgressStyleModel",
      "_view_count": null,
      "_view_module": "@jupyter-widgets/base",
      "_view_module_version": "1.2.0",
      "_view_name": "StyleView",
      "bar_color": null,
      "description_width": "initial"
     }
    },
    "ca77cc53f271432ca4f311eb34098250": {
     "model_module": "@jupyter-widgets/base",
     "model_name": "LayoutModel",
     "state": {
      "_model_module": "@jupyter-widgets/base",
      "_model_module_version": "1.2.0",
      "_model_name": "LayoutModel",
      "_view_count": null,
      "_view_module": "@jupyter-widgets/base",
      "_view_module_version": "1.2.0",
      "_view_name": "LayoutView",
      "align_content": null,
      "align_items": null,
      "align_self": null,
      "border": null,
      "bottom": null,
      "display": null,
      "flex": null,
      "flex_flow": null,
      "grid_area": null,
      "grid_auto_columns": null,
      "grid_auto_flow": null,
      "grid_auto_rows": null,
      "grid_column": null,
      "grid_gap": null,
      "grid_row": null,
      "grid_template_areas": null,
      "grid_template_columns": null,
      "grid_template_rows": null,
      "height": null,
      "justify_content": null,
      "justify_items": null,
      "left": null,
      "margin": null,
      "max_height": null,
      "max_width": null,
      "min_height": null,
      "min_width": null,
      "object_fit": null,
      "object_position": null,
      "order": null,
      "overflow": null,
      "overflow_x": null,
      "overflow_y": null,
      "padding": null,
      "right": null,
      "top": null,
      "visibility": null,
      "width": null
     }
    },
    "cf7ecf87efa5404982dc47579d1275cb": {
     "model_module": "@jupyter-widgets/base",
     "model_name": "LayoutModel",
     "state": {
      "_model_module": "@jupyter-widgets/base",
      "_model_module_version": "1.2.0",
      "_model_name": "LayoutModel",
      "_view_count": null,
      "_view_module": "@jupyter-widgets/base",
      "_view_module_version": "1.2.0",
      "_view_name": "LayoutView",
      "align_content": null,
      "align_items": null,
      "align_self": null,
      "border": null,
      "bottom": null,
      "display": null,
      "flex": null,
      "flex_flow": null,
      "grid_area": null,
      "grid_auto_columns": null,
      "grid_auto_flow": null,
      "grid_auto_rows": null,
      "grid_column": null,
      "grid_gap": null,
      "grid_row": null,
      "grid_template_areas": null,
      "grid_template_columns": null,
      "grid_template_rows": null,
      "height": null,
      "justify_content": null,
      "justify_items": null,
      "left": null,
      "margin": null,
      "max_height": null,
      "max_width": null,
      "min_height": null,
      "min_width": null,
      "object_fit": null,
      "object_position": null,
      "order": null,
      "overflow": null,
      "overflow_x": null,
      "overflow_y": null,
      "padding": null,
      "right": null,
      "top": null,
      "visibility": null,
      "width": null
     }
    }
   }
  }
 },
 "nbformat": 4,
 "nbformat_minor": 1
}
