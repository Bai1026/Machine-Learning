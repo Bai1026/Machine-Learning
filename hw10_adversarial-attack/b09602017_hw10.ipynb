{
  "cells": [
    {
      "attachments": {},
      "cell_type": "markdown",
      "metadata": {
        "id": "H9m2AbpHC9vS"
      },
      "source": [
        "# **Homework 10 - Adversarial Attack**"
      ]
    },
    {
      "attachments": {},
      "cell_type": "markdown",
      "metadata": {
        "id": "k0G8g5KuDBzU"
      },
      "source": [
        "## Enviroment & Download\n",
        "\n",
        "We make use of [pytorchcv](https://pypi.org/project/pytorchcv/) to obtain CIFAR-10 pretrained model, so we need to set up the enviroment first. We also need to download the data (200 images) which we want to attack."
      ]
    },
    {
      "cell_type": "code",
      "execution_count": null,
      "metadata": {
        "colab": {
          "base_uri": "https://localhost:8080/"
        },
        "id": "3KuaftGI-oYD",
        "outputId": "6ec4df4b-8aec-42e9-f86e-d2f3942992b1"
      },
      "outputs": [],
      "source": [
        "!nvidia-smi"
      ]
    },
    {
      "cell_type": "code",
      "execution_count": null,
      "metadata": {
        "colab": {
          "base_uri": "https://localhost:8080/"
        },
        "id": "yMK1RhUQCz1e",
        "outputId": "3cd1342e-89b1-4a6c-c265-8ac81b832082"
      },
      "outputs": [],
      "source": [
        "# set up environment\n",
        "!pip install pytorchcv\n",
        "!pip install imgaug\n",
        "\n",
        "# download\n",
        "# !gdown --id 1t2UFQXr1cr5qLMBK2oN2rY1NDypi9Nyw --output data.zip\n",
        "\n",
        "# if the above link isn't available, try this one\n",
        "# !wget https://www.dropbox.com/s/lbpypqamqjpt2qz/data.zip\n",
        "\n",
        "# unzip\n",
        "# !unzip ./data.zip"
      ]
    },
    {
      "cell_type": "code",
      "execution_count": null,
      "metadata": {
        "id": "-a6naDouEWUZ"
      },
      "outputs": [],
      "source": [
        "# !rm ./data.zip"
      ]
    },
    {
      "cell_type": "code",
      "execution_count": null,
      "metadata": {
        "id": "SaEEx0Y3DMdu"
      },
      "outputs": [],
      "source": [
        "import torch\n",
        "import torch.nn as nn\n",
        "from pytorchcv.model_provider import get_model as ptcv_get_model\n",
        "import random\n",
        "import numpy as np\n",
        "\n",
        "device = torch.device('cuda' if torch.cuda.is_available() else 'cpu')\n",
        "batch_size = 8\n",
        "\n",
        "def same_seeds(seed):\n",
        "\t  torch.manual_seed(seed)\n",
        "\t  if torch.cuda.is_available():\n",
        "\t\t    torch.cuda.manual_seed(seed)\n",
        "\t\t    torch.cuda.manual_seed_all(seed)\n",
        "\t  np.random.seed(seed)\n",
        "\t  random.seed(seed)\n",
        "\t  torch.backends.cudnn.benchmark = False\n",
        "\t  torch.backends.cudnn.deterministic = True\n",
        "same_seeds(5269) "
      ]
    },
    {
      "attachments": {},
      "cell_type": "markdown",
      "metadata": {
        "id": "Z8mIr7c0DPsh"
      },
      "source": [
        "## Global Settings \n",
        "#### **[NOTE]**: Don't change the settings here, or your generated image might not meet the constraint.\n",
        "* $\\epsilon$ is fixed to be 8. But on **Data section**, we will first apply transforms on raw pixel value (0-255 scale) **by ToTensor (to 0-1 scale)** and then **Normalize (subtract mean divide std)**. $\\epsilon$ should be set to $\\frac{8}{255 * std}$ during attack.\n",
        "\n",
        "* Explaination (optional)\n",
        "    * Denote the first pixel of original image as $p$, and the first pixel of adversarial image as $a$.\n",
        "    * The $\\epsilon$ constraints tell us $\\left| p-a \\right| <= 8$.\n",
        "    * ToTensor() can be seen as a function where $T(x) = x/255$.\n",
        "    * Normalize() can be seen as a function where $N(x) = (x-mean)/std$ where $mean$ and $std$ are constants.\n",
        "    * After applying ToTensor() and Normalize() on $p$ and $a$, the constraint becomes $\\left| N(T(p))-N(T(a)) \\right| = \\left| \\frac{\\frac{p}{255}-mean}{std}-\\frac{\\frac{a}{255}-mean}{std} \\right| = \\frac{1}{255 * std} \\left| p-a \\right| <= \\frac{8}{255 * std}.$\n",
        "    * So, we should set $\\epsilon$ to be $\\frac{8}{255 * std}$ after ToTensor() and Normalize()."
      ]
    },
    {
      "cell_type": "code",
      "execution_count": null,
      "metadata": {
        "id": "IBdYgS2DDNL5"
      },
      "outputs": [],
      "source": [
        "# the mean and std are the calculated statistics from cifar_10 dataset\n",
        "cifar_10_mean = (0.491, 0.482, 0.447) # mean for the three channels of cifar_10 images\n",
        "cifar_10_std = (0.202, 0.199, 0.201) # std for the three channels of cifar_10 images\n",
        "\n",
        "# convert mean and std to 3-dimensional tensors for future operations\n",
        "mean = torch.tensor(cifar_10_mean).to(device).view(3, 1, 1)\n",
        "std = torch.tensor(cifar_10_std).to(device).view(3, 1, 1)\n",
        "\n",
        "# do not change the epsilon\n",
        "epsilon = 8/255/std"
      ]
    },
    {
      "cell_type": "code",
      "execution_count": null,
      "metadata": {
        "id": "AjNkQLoaDWba"
      },
      "outputs": [],
      "source": [
        "root = './data' # directory for storing benign images\n",
        "# benign images: images which do not contain adversarial perturbations\n",
        "# adversarial images: images which include adversarial perturbations"
      ]
    },
    {
      "attachments": {},
      "cell_type": "markdown",
      "metadata": {
        "id": "sNf-LoODDZXB"
      },
      "source": [
        "## Data\n",
        "\n",
        "Construct dataset and dataloader from root directory. Note that we store the filename of each image for future usage."
      ]
    },
    {
      "cell_type": "code",
      "execution_count": null,
      "metadata": {
        "colab": {
          "base_uri": "https://localhost:8080/"
        },
        "id": "lV7rbnD5DarR",
        "outputId": "8068a131-124d-4463-ef49-08e03791a533"
      },
      "outputs": [],
      "source": [
        "import os\n",
        "import glob\n",
        "import shutil\n",
        "import numpy as np\n",
        "from PIL import Image\n",
        "from torchvision.transforms import transforms\n",
        "from torch.utils.data import Dataset, DataLoader\n",
        "\n",
        "# do not add transform -> exceed the memory\n",
        "transform = transforms.Compose([\n",
        "    transforms.ToTensor(),\n",
        "    transforms.Normalize(cifar_10_mean, cifar_10_std)\n",
        "])\n",
        "\n",
        "class AdvDataset(Dataset):\n",
        "    def __init__(self, data_dir, transform):\n",
        "        self.images = []\n",
        "        self.labels = []\n",
        "        self.names = []\n",
        "        '''\n",
        "        data_dir\n",
        "        ├── class_dir\n",
        "        │   ├── class1.png\n",
        "        │   ├── ...\n",
        "        │   ├── class20.png\n",
        "        '''\n",
        "        for i, class_dir in enumerate(sorted(glob.glob(f'{data_dir}/*'))):\n",
        "            images = sorted(glob.glob(f'{class_dir}/*'))\n",
        "            self.images += images\n",
        "            self.labels += ([i] * len(images))\n",
        "            self.names += [os.path.relpath(imgs, data_dir) for imgs in images]\n",
        "        self.transform = transform\n",
        "    def __getitem__(self, idx):\n",
        "        image = self.transform(Image.open(self.images[idx]))\n",
        "        label = self.labels[idx]\n",
        "        return image, label\n",
        "    def __getname__(self):\n",
        "        return self.names\n",
        "    def __len__(self):\n",
        "        return len(self.images)\n",
        "\n",
        "adv_set = AdvDataset(root, transform=transform)\n",
        "adv_names = adv_set.__getname__()\n",
        "adv_loader = DataLoader(adv_set, batch_size=batch_size, shuffle=False)\n",
        "\n",
        "print(f'number of images = {adv_set.__len__()}')"
      ]
    },
    {
      "attachments": {},
      "cell_type": "markdown",
      "metadata": {
        "id": "C9D7eakEDflF"
      },
      "source": [
        "## Utils -- Benign Images Evaluation"
      ]
    },
    {
      "cell_type": "code",
      "execution_count": null,
      "metadata": {
        "id": "byE4VH3uDduA"
      },
      "outputs": [],
      "source": [
        "# to evaluate the performance of model on benign images\n",
        "def epoch_benign(model, loader, loss_fn):\n",
        "    model.eval()\n",
        "    train_acc, train_loss = 0.0, 0.0\n",
        "    for x, y in loader:\n",
        "        x, y = x.to(device), y.to(device)\n",
        "        yp = model(x)\n",
        "        loss = loss_fn(yp, y)\n",
        "        train_acc += (yp.argmax(dim=1) == y).sum().item()\n",
        "        train_loss += loss.item() * x.shape[0]\n",
        "    return train_acc / len(loader.dataset), train_loss / len(loader.dataset)"
      ]
    },
    {
      "attachments": {},
      "cell_type": "markdown",
      "metadata": {
        "id": "D3L_qtufDk4j"
      },
      "source": [
        "## Utils -- Attack Algorithm"
      ]
    },
    {
      "cell_type": "code",
      "execution_count": null,
      "metadata": {
        "id": "odTOhtrtDklT"
      },
      "outputs": [],
      "source": [
        "# perform fgsm attack\n",
        "def fgsm(model, x, y, loss_fn, epsilon=epsilon):\n",
        "    x_adv = x.detach().clone() # initialize x_adv as original benign image x\n",
        "    x_adv.requires_grad = True # need to obtain gradient of x_adv, thus set required grad\n",
        "    loss = loss_fn(model(x_adv), y) # calculate loss\n",
        "    loss.backward() # calculate gradient\n",
        "    # fgsm: use gradient ascent on x_adv to maximize loss\n",
        "    grad = x_adv.grad.detach()\n",
        "    x_adv = x_adv + epsilon * grad.sign()\n",
        "    return x_adv\n",
        "\n",
        "################ TODO: Medium baseline #######################\n",
        "# alpha and num_iter can be decided by yourself\n",
        "alpha = 0.8/255/std\n",
        "\n",
        "def ifgsm(model, x, y, loss_fn, epsilon=epsilon, alpha=alpha, num_iter=20):\n",
        "    x_adv = x\n",
        "    \n",
        "    # write a loop with num_iter times\n",
        "    for i in range(num_iter):\n",
        "        # x_adv = fgsm(model, x_adv, y, loss_fn, alpha) # call fgsm with (epsilon = alpha) to obtain new x_adv\n",
        "        x_adv = x_adv.detach().clone()\n",
        "        x_adv.requires_grad = True # need to obtain gradient of x_adv, thus set required grad\n",
        "        loss = loss_fn(model(x_adv), y) # calculate loss\n",
        "        loss.backward() # calculate gradient\n",
        "        # fgsm: use gradient ascent on x_adv to maximize loss\n",
        "        grad = x_adv.grad.detach()\n",
        "        x_adv = x_adv + alpha * grad.sign()\n",
        "\n",
        "        x_adv = torch.max(torch.min(x_adv, x+epsilon), x-epsilon) # clip new x_adv back to [x-epsilon, x+epsilon]\n",
        "    return x_adv\n",
        "\n",
        "################ TODO: Strong baseline ####################\n",
        "def mifgsm(model, x, y, loss_fn, epsilon=epsilon, alpha=alpha, num_iter=20, decay=0.3):\n",
        "    x_adv = x\n",
        "    # initialze momentum tensor\n",
        "    momentum = torch.zeros_like(x).detach().to(device)\n",
        "    # write a loop of num_iter to represent the iterative times\n",
        "    for i in range(num_iter):\n",
        "        x_adv = x_adv.detach().clone()\n",
        "        x_adv.requires_grad = True # need to obtain gradient of x_adv, thus set required grad\n",
        "        loss = loss_fn(model(x_adv), y) # calculate loss\n",
        "        loss.backward() # calculate gradient\n",
        "        # TODO: Momentum calculation\n",
        "        # grad = .....\n",
        "        grad = x_adv.grad.detach()\n",
        "        grad = decay * momentum + grad/(grad.abs().sum() + 1e-8)\n",
        "        momentum = grad\n",
        "        x_adv = x_adv + alpha * grad.sign()\n",
        "        x_adv = torch.max(torch.min(x_adv, x+epsilon), x-epsilon) # clip new x_adv back to [x-epsilon, x+epsilon]\n",
        "    return x_adv\n",
        "\n",
        "\n",
        "def dmi_mifgsm(model, x, y, loss_fn, epsilon=epsilon, alpha=alpha, num_iter=50, decay=1.0, p=0.5):\n",
        "    x_adv = x\n",
        "    # initialze momentum tensor\n",
        "    momentum = torch.zeros_like(x).detach().to(device)\n",
        "    # write a loop of num_iter to represent the iterative times\n",
        "    for i in range(num_iter):\n",
        "        x_adv = x_adv.detach().clone()\n",
        "        x_adv_raw = x_adv.clone()\n",
        "        if torch.rand(1).item() >= p:\n",
        "            #resize img to rnd X rnd\n",
        "            rnd = torch.randint(29, 33, (1,)).item()\n",
        "            x_adv = transforms.Resize((rnd, rnd))(x_adv)\n",
        "            #padding img to 32 X 32 with 0\n",
        "            left = torch.randint(0, 32 - rnd + 1, (1,)).item()\n",
        "            top = torch.randint(0, 32 - rnd + 1, (1,)).item()\n",
        "            right = 32 - rnd - left\n",
        "            bottom = 32 - rnd - top\n",
        "            x_adv = transforms.Pad([left, top, right, bottom])(x_adv)\n",
        "        x_adv.requires_grad = True # need to obtain gradient of x_adv, thus set required grad\n",
        "        loss = loss_fn(model(x_adv), y) # calculate loss\n",
        "        loss.backward() # calculate gradient\n",
        "        # TODO: Momentum calculation\n",
        "        # grad = .....   \n",
        "        grad = x_adv.grad.detach()\n",
        "        grad = decay * momentum + grad/(grad.abs().sum() + 1e-8)\n",
        "        momentum = grad\n",
        "        x_adv = x_adv_raw + alpha * grad.sign()\n",
        "        x_adv = torch.max(torch.min(x_adv, x+epsilon), x-epsilon) # clip new x_adv back to [x-epsilon, x+epsilon]\n",
        "    return x_adv"
      ]
    },
    {
      "attachments": {},
      "cell_type": "markdown",
      "metadata": {
        "id": "0o9ww4s1DrEx"
      },
      "source": [
        "## Utils -- Attack\n",
        "* Recall\n",
        "  * ToTensor() can be seen as a function where $T(x) = x/255$.\n",
        "  * Normalize() can be seen as a function where $N(x) = (x-mean)/std$ where $mean$ and $std$ are constants.\n",
        "\n",
        "* Inverse function\n",
        "  * Inverse Normalize() can be seen as a function where $N^{-1}(x) = x*std+mean$ where $mean$ and $std$ are constants.\n",
        "  * Inverse ToTensor() can be seen as a function where $T^{-1}(x) = x*255$.\n",
        "\n",
        "* Special Noted\n",
        "  * ToTensor() will also convert the image from shape (height, width, channel) to shape (channel, height, width), so we also need to transpose the shape back to original shape.\n",
        "  * Since our dataloader samples a batch of data, what we need here is to transpose **(batch_size, channel, height, width)** back to **(batch_size, height, width, channel)** using np.transpose."
      ]
    },
    {
      "cell_type": "code",
      "execution_count": null,
      "metadata": {
        "id": "rbtfv7rjDrvR"
      },
      "outputs": [],
      "source": [
        "# perform adversarial attack and generate adversarial examples\n",
        "def gen_adv_examples(model, loader, attack, loss_fn):\n",
        "    model.eval()\n",
        "    adv_names = []\n",
        "    train_acc, train_loss = 0.0, 0.0\n",
        "    for i, (x, y) in enumerate(loader):\n",
        "        x, y = x.to(device), y.to(device)\n",
        "        x_adv = attack(model, x, y, loss_fn) # obtain adversarial examples\n",
        "        yp = model(x_adv)\n",
        "        loss = loss_fn(yp, y)\n",
        "        train_acc += (yp.argmax(dim=1) == y).sum().item()\n",
        "        train_loss += loss.item() * x.shape[0]\n",
        "        # store adversarial examples\n",
        "        adv_ex = ((x_adv) * std + mean).clamp(0, 1) # to 0-1 scale\n",
        "        adv_ex = (adv_ex * 255).clamp(0, 255) # 0-255 scale\n",
        "        adv_ex = adv_ex.detach().cpu().data.numpy().round() # round to remove decimal part\n",
        "        adv_ex = adv_ex.transpose((0, 2, 3, 1)) # transpose (bs, C, H, W) back to (bs, H, W, C)\n",
        "        adv_examples = adv_ex if i == 0 else np.r_[adv_examples, adv_ex]\n",
        "    return adv_examples, train_acc / len(loader.dataset), train_loss / len(loader.dataset)\n",
        "\n",
        "# create directory which stores adversarial examples\n",
        "def create_dir(data_dir, adv_dir, adv_examples, adv_names):\n",
        "    if os.path.exists(adv_dir) is not True:\n",
        "        _ = shutil.copytree(data_dir, adv_dir)\n",
        "    for example, name in zip(adv_examples, adv_names):\n",
        "        im = Image.fromarray(example.astype(np.uint8)) # image pixel value should be unsigned int\n",
        "        im.save(os.path.join(adv_dir, name))"
      ]
    },
    {
      "attachments": {},
      "cell_type": "markdown",
      "metadata": {
        "id": "rbLBR4bjDu7h"
      },
      "source": [
        "## Model / Loss Function\n",
        "\n",
        "Model list is available [here](https://github.com/osmr/imgclsmob/blob/master/pytorch/pytorchcv/model_provider.py). Please select models which has _cifar10 suffix. Other kinds of models are prohibited, and it will be considered to be cheating if you use them. \n",
        "\n",
        "Note: Some of the models cannot be accessed/loaded. You can safely skip them since TA's model will not use those kinds of models."
      ]
    },
    {
      "cell_type": "code",
      "execution_count": null,
      "metadata": {
        "id": "xCKMshb08I1I"
      },
      "outputs": [],
      "source": [
        "# This function is used to check whether you use models pretrained on cifar10 instead of other datasets\n",
        "def model_checker(model_name):\n",
        "  assert ('cifar10' in model_name) and ('cifar100' not in model_name), 'The model selected is not pretrained on cifar10!'"
      ]
    },
    {
      "cell_type": "code",
      "execution_count": null,
      "metadata": {
        "colab": {
          "base_uri": "https://localhost:8080/"
        },
        "id": "eCJU4k__DwPT",
        "outputId": "9063caa9-983a-49a4-8885-89d4afc2cbe9"
      },
      "outputs": [],
      "source": [
        "from pytorchcv.model_provider import get_model as ptcv_get_model\n",
        "\n",
        "# change the model here\n",
        "model_name = 'resnet110_cifar10'\n",
        "model_checker(model_name)\n",
        "\n",
        "model = ptcv_get_model(model_name, pretrained=True).to(device)\n",
        "loss_fn = nn.CrossEntropyLoss()\n",
        "\n",
        "benign_acc, benign_loss = epoch_benign(model, adv_loader, loss_fn)\n",
        "print(f'benign_acc = {benign_acc:.5f}, benign_loss = {benign_loss:.5f}')"
      ]
    },
    {
      "attachments": {},
      "cell_type": "markdown",
      "metadata": {
        "id": "-CWEsxsUD0Mo"
      },
      "source": [
        "## FGSM"
      ]
    },
    {
      "cell_type": "code",
      "execution_count": null,
      "metadata": {
        "colab": {
          "base_uri": "https://localhost:8080/"
        },
        "id": "xP6s-MCODyyh",
        "outputId": "ce52b55d-37f1-4e09-b4c3-22627b15fb6d"
      },
      "outputs": [],
      "source": [
        "adv_examples, fgsm_acc, fgsm_loss = gen_adv_examples(model, adv_loader, fgsm, loss_fn)\n",
        "print(f'fgsm_acc = {fgsm_acc:.5f}, fgsm_loss = {fgsm_loss:.5f}')\n",
        "\n",
        "create_dir(root, 'fgsm', adv_examples, adv_names)"
      ]
    },
    {
      "attachments": {},
      "cell_type": "markdown",
      "metadata": {
        "id": "aF63L-_LDpa4"
      },
      "source": [
        "## I-FGSM"
      ]
    },
    {
      "cell_type": "code",
      "execution_count": null,
      "metadata": {
        "colab": {
          "base_uri": "https://localhost:8080/"
        },
        "id": "lZlzs_PmDo8L",
        "outputId": "fd8cb60b-b9eb-4203-a5c8-7b49baaabc0a"
      },
      "outputs": [],
      "source": [
        "adv_examples, ifgsm_acc, ifgsm_loss = gen_adv_examples(model, adv_loader, ifgsm, loss_fn)\n",
        "print(f'ifgsm_acc = {ifgsm_acc:.5f}, ifgsm_loss = {ifgsm_loss:.5f}')\n",
        "\n",
        "create_dir(root, 'ifgsm', adv_examples, adv_names)"
      ]
    },
    {
      "attachments": {},
      "cell_type": "markdown",
      "metadata": {
        "id": "mdXagUQoDw45"
      },
      "source": [
        "## MI-FGSM"
      ]
    },
    {
      "cell_type": "code",
      "execution_count": null,
      "metadata": {
        "colab": {
          "base_uri": "https://localhost:8080/"
        },
        "id": "79uJhCZPD0gP",
        "outputId": "2d876e85-3e4b-4220-bc27-aff998edac15"
      },
      "outputs": [],
      "source": [
        "adv_examples, ifgsm_acc, ifgsm_loss = gen_adv_examples(model, adv_loader, mifgsm, loss_fn)\n",
        "print(f'mifgsm_acc = {ifgsm_acc:.5f}, mifgsm_loss = {ifgsm_loss:.5f}')\n",
        "\n",
        "create_dir(root, 'mifgsm', adv_examples, adv_names)"
      ]
    },
    {
      "cell_type": "code",
      "execution_count": null,
      "metadata": {},
      "outputs": [],
      "source": [
        "%ls"
      ]
    },
    {
      "attachments": {},
      "cell_type": "markdown",
      "metadata": {
        "id": "ryWkzhG7D1Qn"
      },
      "source": [
        "## Compression"
      ]
    },
    {
      "cell_type": "code",
      "execution_count": null,
      "metadata": {
        "colab": {
          "base_uri": "https://localhost:8080/"
        },
        "id": "lx-X40vrD3S7",
        "outputId": "a5c45c30-c80d-4e3d-cd13-31df64bcec2c"
      },
      "outputs": [],
      "source": [
        "# %cd fgsm\n",
        "# !tar zcvf ../fgsm.tgz *\n",
        "# %cd ..\n",
        "\n",
        "# %cd ifgsm\n",
        "# !tar zcvf ../ifgsm.tgz *\n",
        "# %cd ..\n",
        "\n",
        "# %cd mifgsm\n",
        "# !tar zcvf ../mifgsm.tgz *\n",
        "# %cd .."
      ]
    },
    {
      "attachments": {},
      "cell_type": "markdown",
      "metadata": {
        "id": "7dq5LDvJD5rB"
      },
      "source": [
        "## Example of Ensemble Attack\n",
        "* Ensemble multiple models as your proxy model to increase the black-box transferability ([paper](https://arxiv.org/abs/1611.02770))"
      ]
    },
    {
      "cell_type": "code",
      "execution_count": null,
      "metadata": {
        "colab": {
          "base_uri": "https://localhost:8080/"
        },
        "id": "MFAbwsLzJI-2",
        "outputId": "83463002-e3db-491b-a02a-a78463d0ec4f"
      },
      "outputs": [],
      "source": [
        "!git clone https://github.com/kuangliu/pytorch-cifar.git"
      ]
    },
    {
      "cell_type": "code",
      "execution_count": null,
      "metadata": {
        "colab": {
          "base_uri": "https://localhost:8080/",
          "height": 88
        },
        "id": "NwJwBcs8Md96",
        "outputId": "2b1359ca-8c84-45ab-89c8-f0b092bad3a5"
      },
      "outputs": [],
      "source": [
        "# cd pytorch-cifar\n",
        "# !cd ..\n",
        "# %cd ..\n",
        "# %ls\n",
        "# %pwd"
      ]
    },
    {
      "cell_type": "code",
      "execution_count": null,
      "metadata": {
        "colab": {
          "base_uri": "https://localhost:8080/"
        },
        "id": "ARfq_Z-iJI4x",
        "outputId": "4b09a6fb-94b1-48c7-949a-cbe5c7ad6ce8"
      },
      "outputs": [],
      "source": [
        "!cp pytorch-cifar/models/resnet.py resnet.py"
      ]
    },
    {
      "cell_type": "code",
      "execution_count": null,
      "metadata": {
        "id": "h9xkYTZBJIrr"
      },
      "outputs": [],
      "source": [
        "from resnet import ResNet18\n",
        "undertrain_resnet18 = ResNet18().cuda()"
      ]
    },
    {
      "attachments": {},
      "cell_type": "markdown",
      "metadata": {
        "id": "KWE6GzYSJQPr"
      },
      "source": [
        "## Ensemble"
      ]
    },
    {
      "cell_type": "code",
      "execution_count": null,
      "metadata": {
        "id": "nvEX_IM8D7Rx"
      },
      "outputs": [],
      "source": [
        "################ BOSS BASELINE ######################\n",
        "\n",
        "class ensembleNet(nn.Module):\n",
        "    def __init__(self, model_names):\n",
        "        super().__init__()\n",
        "        self.models = nn.ModuleList([ptcv_get_model(name, pretrained=True) for name in model_names])\n",
        "        self.models.append(undertrain_resnet18)\n",
        "\n",
        "    def forward(self, x):\n",
        "        #################### TODO: boss baseline ###################\n",
        "        ensemble_logits = None\n",
        "        for i, m in enumerate(self.models):\n",
        "          if i == 0:\n",
        "            ensemble_logits = m(x)\n",
        "          else:\n",
        "            ensemble_logits += m(x)\n",
        "          \n",
        "        # TODO: sum up logits from multiple models -> then do the average\n",
        "        return ensemble_logits/len(self.models)"
      ]
    },
    {
      "attachments": {},
      "cell_type": "markdown",
      "metadata": {
        "id": "De5J9n3WD-56"
      },
      "source": [
        "* Construct your ensemble model"
      ]
    },
    {
      "cell_type": "code",
      "execution_count": null,
      "metadata": {
        "colab": {
          "base_uri": "https://localhost:8080/"
        },
        "id": "9as1WHEiD_cp",
        "outputId": "43400d26-59b3-43d1-98e2-4265283e33c0"
      },
      "outputs": [],
      "source": [
        "model_names = [\n",
        "    'nin_cifar10',\n",
        "    'resnet20_cifar10',\n",
        "    'resnet56_cifar10',\n",
        "    'preresnet56_cifar10',\n",
        "    'preresnet272bn_cifar10',\n",
        "    'seresnet110_cifar10',\n",
        "    'pyramidnet110_a84_cifar10',\n",
        "    'densenet40_k12_bc_cifar10',\n",
        "    'wrn28_10_cifar10',\n",
        "    'wrn20_10_1bit_cifar10',\n",
        "    'ror3_56_cifar10',\n",
        "    'ror3_164_cifar10',\n",
        "    'wrn20_10_32bit_cifar10',\n",
        "    'rir_cifar10',\n",
        "    'sepreresnet110_cifar10',\n",
        "    'seresnet272bn_cifar10',\n",
        "    'resnext272_2x32d_cifar10',\n",
        "    'seresnet542bn_cifar10',\n",
        "    'shakeshakeresnet20_2x16d_cifar10',\n",
        "    'shakeshakeresnet26_2x32d_cifar10',\n",
        "    'diaresnet56_cifar10',\n",
        "    'diaresnet164bn_cifar10',\n",
        "    'diaresnet110_cifar10',\n",
        "    # 'msdnet22_cifar10',\n",
        "    # 'diaresnet1001_cifar10',\n",
        "    \n",
        "    # 'diaresnet1202_cifar10','\n",
        "    'diapreresnet20_cifar10',\n",
        "    'diapreresnet164bn_cifar10',\n",
        "    # 'diapreresnet1202_cifar10',\n",
        "    'preresnet20_cifar10'\n",
        "    # 'resnext20_32x4d_cifar10',\n",
        "    # 'shakedropresnet20_cifar10',\n",
        "    # 'resdropresnet20_cifar10',\n",
        "    # 'fractalnet_cifar10',\n",
        "    # 'seresnet1001_cifar10',\n",
        "    # 'sepreresnet164bn_cifar10',\n",
        "    # 'sepreresnet1001_cifar10',\n",
        "    # 'msdnet22_cifar10',\n",
        "]\n",
        "\n",
        "for model_name in model_names:\n",
        "  model_checker(model_name)\n",
        "\n",
        "ensemble_model = ensembleNet(model_names).to(device)\n",
        "ensemble_model.eval()"
      ]
    },
    {
      "cell_type": "code",
      "execution_count": null,
      "metadata": {
        "colab": {
          "base_uri": "https://localhost:8080/"
        },
        "id": "iy6Vk8bFJf4A",
        "outputId": "938a46b9-86e8-4c7e-e6ad-2287455383bc"
      },
      "outputs": [],
      "source": [
        "from pytorchcv.model_provider import get_model as ptcv_get_model\n",
        "\n",
        "benign_acc, benign_loss = epoch_benign(ensemble_model, adv_loader, loss_fn)\n",
        "print(f'benign_acc = {benign_acc:.5f}, benign_loss = {benign_loss:.5f}')"
      ]
    },
    {
      "cell_type": "code",
      "execution_count": null,
      "metadata": {
        "colab": {
          "base_uri": "https://localhost:8080/"
        },
        "id": "FhDUpDzyJfwf",
        "outputId": "3230c960-c0f6-41a3-cba8-43e08b0248ee"
      },
      "outputs": [],
      "source": [
        "# adv_examples, ifgsm_acc, ifgsm_loss = gen_adv_examples(ensemble_model, adv_loader, ifgsm, loss_fn)\n",
        "# print(f'ensemble_ifgsm_acc = {ifgsm_acc:.5f}, ensemble_ifgsm_loss = {ifgsm_loss:.5f}')\n",
        "\n",
        "# create_dir(root, 'ensemble_ifgsm', adv_examples, adv_names)"
      ]
    },
    {
      "cell_type": "code",
      "execution_count": null,
      "metadata": {
        "colab": {
          "base_uri": "https://localhost:8080/"
        },
        "id": "uvAMHjl3Jfmf",
        "outputId": "c2d8176b-4b36-4020-ff50-120aed8c9962"
      },
      "outputs": [],
      "source": [
        "adv_examples, ifgsm_acc, ifgsm_loss = gen_adv_examples(ensemble_model, adv_loader, mifgsm, loss_fn)\n",
        "print(f'ensemble_mifgsm_acc = {ifgsm_acc:.5f}, ensemble_mifgsm_loss = {ifgsm_loss:.5f}')\n",
        "\n",
        "create_dir(root, 'ensemble_mifgsm', adv_examples, adv_names)"
      ]
    },
    {
      "cell_type": "code",
      "execution_count": null,
      "metadata": {
        "colab": {
          "base_uri": "https://localhost:8080/"
        },
        "id": "jCwsr3aUJfdh",
        "outputId": "81ebe486-8854-473e-c063-f699f8b81958"
      },
      "outputs": [],
      "source": [
        "# adv_examples, ifgsm_acc, ifgsm_loss = gen_adv_examples(ensemble_model, adv_loader, dmi_mifgsm, loss_fn)\n",
        "# print(f'ensemble_dmi_mifgsm_acc = {ifgsm_acc:.5f}, ensemble_dim_mifgsm_loss = {ifgsm_loss:.5f}')\n",
        "\n",
        "# create_dir(root, 'ensemble_dmifgsm', adv_examples, adv_names)"
      ]
    },
    {
      "cell_type": "code",
      "execution_count": null,
      "metadata": {},
      "outputs": [],
      "source": [
        "\n",
        "# %cd ../test2\n",
        "\n",
        "# %cd Documents/sheng-ru/bai/test2\n",
        "%ls\n"
      ]
    },
    {
      "cell_type": "code",
      "execution_count": null,
      "metadata": {
        "colab": {
          "base_uri": "https://localhost:8080/"
        },
        "id": "dxXFAIO-PI6E",
        "outputId": "02db3f2b-f6a8-4297-82ad-6d059c6345e1"
      },
      "outputs": [],
      "source": [
        "# %cd ensemble_ifgsm\n",
        "# !tar zcvf ../ensemble_ifgsm.tgz *\n",
        "# %cd ..\n",
        "\n",
        "%cd ensemble_mifgsm\n",
        "!tar zcvf ../ensemble_mifgsm.tgz *\n",
        "%cd ..\n",
        "\n",
        "# %pwd\n",
        "# %cd ensemble_dmifgsm\n",
        "# !tar zcvf ../ensemble_dmifgsm.tgz *\n",
        "# tar -czvf -9 archive.tar.gz files...\n",
        "# !tar -czvf -9 ../ensemble_dmifgsm.tar.gz\n",
        "# %cd ..\n",
        "# %pwd"
      ]
    },
    {
      "cell_type": "code",
      "execution_count": null,
      "metadata": {
        "colab": {
          "base_uri": "https://localhost:8080/"
        },
        "id": "q1JxpPrxPwI_",
        "outputId": "c325827e-fb97-4527-e1f6-e00693cd43f0"
      },
      "outputs": [],
      "source": [
        "# %pwd\n",
        "# %cd content\n",
        "%ls"
      ]
    },
    {
      "cell_type": "code",
      "execution_count": null,
      "metadata": {
        "colab": {
          "base_uri": "https://localhost:8080/",
          "height": 419
        },
        "id": "3TXw5GYlO_cl",
        "outputId": "319b9367-ad63-40b1-f102-3d6c89cac6a1"
      },
      "outputs": [],
      "source": [
        "# from google.colab import files\n",
        "# files.download('ensemble_dmifgsm.tgz')\n",
        "# files.download('ensemble_mifgsm.tgz')\n",
        "# files.download('ensemble_ifgsm.tgz')"
      ]
    },
    {
      "attachments": {},
      "cell_type": "markdown",
      "metadata": {
        "id": "4N6Me0GQECfZ"
      },
      "source": [
        "## Visualization"
      ]
    },
    {
      "cell_type": "code",
      "execution_count": null,
      "metadata": {},
      "outputs": [],
      "source": [
        "%pwd"
      ]
    },
    {
      "cell_type": "code",
      "execution_count": null,
      "metadata": {
        "colab": {
          "base_uri": "https://localhost:8080/",
          "height": 661
        },
        "id": "RxNrXHKsEDGx",
        "outputId": "a20d1719-11b2-49b7-f749-7fb5a81e93c3"
      },
      "outputs": [],
      "source": [
        "import matplotlib.pyplot as plt\n",
        "\n",
        "classes = ['airplane', 'automobile', 'bird', 'cat', 'deer', 'dog', 'frog', 'horse', 'ship', 'truck']\n",
        "\n",
        "plt.figure(figsize=(10, 20))\n",
        "cnt = 0\n",
        "for i, cls_name in enumerate(classes):\n",
        "    path = f'{cls_name}/{cls_name}1.png'\n",
        "    # benign image\n",
        "    cnt += 1\n",
        "    plt.subplot(len(classes), 4, cnt)\n",
        "    im = Image.open(f'/home/wmnlab/Documents/sheng-ru/bai/test2/data/{path}')\n",
        "    logit = model(transform(im).unsqueeze(0).to(device))[0]\n",
        "    predict = logit.argmax(-1).item()\n",
        "    prob = logit.softmax(-1)[predict].item()\n",
        "    plt.title(f'benign: {cls_name}1.png\\n{classes[predict]}: {prob:.2%}')\n",
        "    plt.axis('off')\n",
        "    plt.imshow(np.array(im))\n",
        "    # adversarial image\n",
        "    cnt += 1\n",
        "    plt.subplot(len(classes), 4, cnt)\n",
        "    im = Image.open(f'./fgsm/{path}')\n",
        "    logit = model(transform(im).unsqueeze(0).to(device))[0]\n",
        "    predict = logit.argmax(-1).item()\n",
        "    prob = logit.softmax(-1)[predict].item()\n",
        "    plt.title(f'adversarial: {cls_name}1.png\\n{classes[predict]}: {prob:.2%}')\n",
        "    plt.axis('off')\n",
        "    plt.imshow(np.array(im))\n",
        "plt.tight_layout()\n",
        "plt.show()"
      ]
    },
    {
      "attachments": {},
      "cell_type": "markdown",
      "metadata": {
        "id": "WDc6QllJEHiC"
      },
      "source": [
        "## Report Question\n",
        "* Make sure you follow below setup: the source model is \"resnet110_cifar10\", applying the vanilla fgsm attack on `dog2.png`. You can find the perturbed image in `fgsm/dog2.png`."
      ]
    },
    {
      "cell_type": "code",
      "execution_count": null,
      "metadata": {
        "id": "XhFVWA6JEH8Z"
      },
      "outputs": [],
      "source": [
        "# original image\n",
        "path = f'dog/dog2.png'\n",
        "im = Image.open(f'./data/{path}')\n",
        "logit = model(transform(im).unsqueeze(0).to(device))[0]\n",
        "predict = logit.argmax(-1).item()\n",
        "prob = logit.softmax(-1)[predict].item()\n",
        "plt.title(f'benign: dog2.png\\n{classes[predict]}: {prob:.2%}')\n",
        "plt.axis('off')\n",
        "plt.imshow(np.array(im))\n",
        "plt.tight_layout()\n",
        "plt.show()\n",
        "\n",
        "# adversarial image \n",
        "adv_im = Image.open(f'./fgsm/{path}')\n",
        "logit = model(transform(adv_im).unsqueeze(0).to(device))[0]\n",
        "predict = logit.argmax(-1).item()\n",
        "prob = logit.softmax(-1)[predict].item()\n",
        "plt.title(f'adversarial: dog2.png\\n{classes[predict]}: {prob:.2%}')\n",
        "plt.axis('off')\n",
        "plt.imshow(np.array(adv_im))\n",
        "plt.tight_layout()\n",
        "plt.show()"
      ]
    },
    {
      "attachments": {},
      "cell_type": "markdown",
      "metadata": {
        "id": "NfwhnywXEMwZ"
      },
      "source": [
        "## Passive Defense - JPEG compression\n",
        "JPEG compression by imgaug package, compression rate set to 70\n",
        "\n",
        "Reference: https://imgaug.readthedocs.io/en/latest/source/api_augmenters_arithmetic.html#imgaug.augmenters.arithmetic.JpegCompression\n",
        "\n",
        "Note: If you haven't implemented the JPEG compression, this module will return an error. Don't worry about this."
      ]
    },
    {
      "cell_type": "code",
      "execution_count": null,
      "metadata": {
        "id": "y2T7-L-BEKYg"
      },
      "outputs": [],
      "source": [
        "import imgaug.augmenters as iaa\n",
        "\n",
        "# pre-process image\n",
        "x = transforms.ToTensor()(adv_im)*255\n",
        "x = x.permute(1, 2, 0).numpy()\n",
        "x = x.astype(np.uint8)\n",
        "\n",
        "# TODO: use \"imgaug\" package to perform JPEG compression (compression rate = 70)\n",
        "compressed_x =  iaa.arithmetic.compress_jpeg(x, compression=70)\n",
        "\n",
        "logit = model(transform(compressed_x).unsqueeze(0).to(device))[0]\n",
        "predict = logit.argmax(-1).item()\n",
        "prob = logit.softmax(-1)[predict].item()\n",
        "plt.title(f'JPEG adversarial: dog2.png\\n{classes[predict]}: {prob:.2%}')\n",
        "plt.axis('off')\n",
        "\n",
        "\n",
        "plt.imshow(compressed_x)\n",
        "plt.tight_layout()\n",
        "plt.show()"
      ]
    }
  ],
  "metadata": {
    "accelerator": "GPU",
    "colab": {
      "provenance": []
    },
    "gpuClass": "standard",
    "kernelspec": {
      "display_name": "Python 3",
      "name": "python3"
    },
    "language_info": {
      "codemirror_mode": {
        "name": "ipython",
        "version": 3
      },
      "file_extension": ".py",
      "mimetype": "text/x-python",
      "name": "python",
      "nbconvert_exporter": "python",
      "pygments_lexer": "ipython3",
      "version": "3.10.11"
    }
  },
  "nbformat": 4,
  "nbformat_minor": 0
}
