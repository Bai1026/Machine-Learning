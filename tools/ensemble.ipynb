{
  "nbformat": 4,
  "nbformat_minor": 0,
  "metadata": {
    "colab": {
      "provenance": []
    },
    "kernelspec": {
      "name": "python3",
      "display_name": "Python 3"
    },
    "language_info": {
      "name": "python"
    }
  },
  "cells": [
    {
      "cell_type": "code",
      "execution_count": 42,
      "metadata": {
        "colab": {
          "base_uri": "https://localhost:8080/"
        },
        "id": "TNkWcRNozVOA",
        "outputId": "107b00d3-7ba0-4ecc-fa70-d369606c7b12"
      },
      "outputs": [
        {
          "output_type": "stream",
          "name": "stdout",
          "text": [
            "            Id  Class\n",
            "0            0      0\n",
            "1            1      0\n",
            "2            2      0\n",
            "3            3      0\n",
            "4            4      0\n",
            "...        ...    ...\n",
            "527359  527359      0\n",
            "527360  527360      0\n",
            "527361  527361      0\n",
            "527362  527362      0\n",
            "527363  527363      0\n",
            "\n",
            "[527364 rows x 2 columns]\n"
          ]
        }
      ],
      "source": [
        "import pandas as pd\n",
        "import numpy as np\n",
        "\n",
        "# 讀取CSV文件\n",
        "df1 = pd.read_csv('/content/sample_data/prediction-4.csv')\n",
        "df2 = pd.read_csv('/content/sample_data/prediction-5.csv')\n",
        "df3 = pd.read_csv('/content/sample_data/prediction-6.csv')\n",
        "df4 = pd.read_csv('/content/sample_data/prediction-7.csv')\n",
        "\n",
        "# 合併CSV文件\n",
        "df = pd.concat([df1, df2, df3, df4], axis = 1)\n",
        "\n",
        "# 使用 numpy 的 mode() 函数進行投票\n",
        "class_votes = np.apply_along_axis(lambda x: np.argmax(np.bincount(x)), axis=1, arr=df[['Class', 'Class', 'Class', 'Class']].values)\n",
        "\n",
        "# 將 class_votes 轉換為 DataFrame\n",
        "class_votes_df = pd.DataFrame(class_votes, columns=['Class'])\n",
        "\n",
        "# 選擇 ID 列\n",
        "id_df = df[['Id']]\n",
        "\n",
        "# 合併 ID 列和 class_votes_df\n",
        "# df_result = pd.DataFrame({'Id': id_df['Id'], 'Class': class_votes_df['Class']})\n",
        "\n",
        "df_result = pd.concat([id_df, class_votes_df], axis=1)\n",
        "\n",
        "# #選擇\n",
        "df_result = df_result.iloc[:, [2,4]]\n",
        "\n",
        "# 打印 DataFrame\n",
        "print(df_result)"
      ]
    },
    {
      "cell_type": "code",
      "source": [
        "with open('ensemble.csv', 'w') as f:\n",
        "    f.write('Id,Class\\n')\n",
        "    for i, row in df_result.iterrows():\n",
        "        f.write('{},{}\\n'.format(row['Id'], row['Class']))\n"
      ],
      "metadata": {
        "id": "imDg_XV07QMg"
      },
      "execution_count": 43,
      "outputs": []
    },
    {
      "cell_type": "code",
      "source": [
        "from google.colab import files\n",
        "files.download('ensemble.csv')"
      ],
      "metadata": {
        "colab": {
          "base_uri": "https://localhost:8080/",
          "height": 17
        },
        "id": "FP1ND6h67RMz",
        "outputId": "388cc9e2-9bf5-443b-efcf-d93dfabecba9"
      },
      "execution_count": 45,
      "outputs": [
        {
          "output_type": "display_data",
          "data": {
            "text/plain": [
              "<IPython.core.display.Javascript object>"
            ],
            "application/javascript": [
              "\n",
              "    async function download(id, filename, size) {\n",
              "      if (!google.colab.kernel.accessAllowed) {\n",
              "        return;\n",
              "      }\n",
              "      const div = document.createElement('div');\n",
              "      const label = document.createElement('label');\n",
              "      label.textContent = `Downloading \"${filename}\": `;\n",
              "      div.appendChild(label);\n",
              "      const progress = document.createElement('progress');\n",
              "      progress.max = size;\n",
              "      div.appendChild(progress);\n",
              "      document.body.appendChild(div);\n",
              "\n",
              "      const buffers = [];\n",
              "      let downloaded = 0;\n",
              "\n",
              "      const channel = await google.colab.kernel.comms.open(id);\n",
              "      // Send a message to notify the kernel that we're ready.\n",
              "      channel.send({})\n",
              "\n",
              "      for await (const message of channel.messages) {\n",
              "        // Send a message to notify the kernel that we're ready.\n",
              "        channel.send({})\n",
              "        if (message.buffers) {\n",
              "          for (const buffer of message.buffers) {\n",
              "            buffers.push(buffer);\n",
              "            downloaded += buffer.byteLength;\n",
              "            progress.value = downloaded;\n",
              "          }\n",
              "        }\n",
              "      }\n",
              "      const blob = new Blob(buffers, {type: 'application/binary'});\n",
              "      const a = document.createElement('a');\n",
              "      a.href = window.URL.createObjectURL(blob);\n",
              "      a.download = filename;\n",
              "      div.appendChild(a);\n",
              "      a.click();\n",
              "      div.remove();\n",
              "    }\n",
              "  "
            ]
          },
          "metadata": {}
        },
        {
          "output_type": "display_data",
          "data": {
            "text/plain": [
              "<IPython.core.display.Javascript object>"
            ],
            "application/javascript": [
              "download(\"download_f0d9903e-7d8f-4536-b08b-1c6e4d01b64b\", \"ensemble.csv\", 4938335)"
            ]
          },
          "metadata": {}
        }
      ]
    }
  ]
}