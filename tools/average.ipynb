{
  "nbformat": 4,
  "nbformat_minor": 0,
  "metadata": {
    "colab": {
      "provenance": []
    },
    "kernelspec": {
      "name": "python3",
      "display_name": "Python 3"
    },
    "language_info": {
      "name": "python"
    }
  },
  "cells": [
    {
      "cell_type": "code",
      "execution_count": 5,
      "metadata": {
        "colab": {
          "base_uri": "https://localhost:8080/"
        },
        "id": "7wZILgVdRNOf",
        "outputId": "9d166829-204b-4691-f520-35fa876649cf"
      },
      "outputs": [
        {
          "output_type": "stream",
          "name": "stdout",
          "text": [
            "          ID      score\n",
            "0          0  12.442420\n",
            "1          1  20.396099\n",
            "2          2  20.607080\n",
            "3          3  24.789676\n",
            "4          4  21.804589\n",
            "...      ...        ...\n",
            "19631  19631  17.750895\n",
            "19632  19632  25.288101\n",
            "19633  19633  15.977760\n",
            "19634  19634   8.192138\n",
            "19635  19635  20.442196\n",
            "\n",
            "[19636 rows x 2 columns]\n"
          ]
        }
      ],
      "source": [
        "import pandas as pd\n",
        "import numpy as np\n",
        "\n",
        "# 讀取 CSV 文件\n",
        "df1 = pd.read_csv('/content/average-prediction.csv')\n",
        "df2 = pd.read_csv('/content/prediction-16.csv')\n",
        "df3 = pd.read_csv('/content/prediction-17.csv')\n",
        "df4 = pd.read_csv('/content/average-prediction-2.csv')\n",
        "# df5 = pd.read_csv('/content/prediction-16.csv')\n",
        "\n",
        "# 將預測類別轉換為 NumPy 數組\n",
        "pred1 = df1['score'].to_numpy()\n",
        "pred2 = df2['score'].to_numpy()\n",
        "pred3 = df3['score'].to_numpy()\n",
        "pred4 = df4['score'].to_numpy()\n",
        "# pred5 = df5['score'].to_numpy()\n",
        "\n",
        "# 將預測結果加總\n",
        "sum_preds = pred1 + pred2 + pred3 + pred4\n",
        "\n",
        "# 將加總後的預測結果除以 4 獲取平均值\n",
        "avg_preds = sum_preds / 4\n",
        "\n",
        "# 創建 DataFrame 保存結果, 取6位小數即可\n",
        "df_result = pd.DataFrame({'ID': df1['ID'], 'score': avg_preds.round(6)})\n",
        "\n",
        "\n",
        "# 保存 DataFrame 為 CSV 文件\n",
        "df_result.to_csv('/content/average-prediction.csv', index=False)\n",
        "\n",
        "# 打印 DataFrame\n",
        "print(df_result)"
      ]
    },
    {
      "cell_type": "code",
      "source": [
        "from google.colab import files\n",
        "files.download('average-prediction.csv')"
      ],
      "metadata": {
        "colab": {
          "base_uri": "https://localhost:8080/",
          "height": 17
        },
        "id": "MzpA_9xCR2fT",
        "outputId": "4db2f3a0-8d29-4f08-8eef-262b56eab2d6"
      },
      "execution_count": 6,
      "outputs": [
        {
          "output_type": "display_data",
          "data": {
            "text/plain": [
              "<IPython.core.display.Javascript object>"
            ],
            "application/javascript": [
              "\n",
              "    async function download(id, filename, size) {\n",
              "      if (!google.colab.kernel.accessAllowed) {\n",
              "        return;\n",
              "      }\n",
              "      const div = document.createElement('div');\n",
              "      const label = document.createElement('label');\n",
              "      label.textContent = `Downloading \"${filename}\": `;\n",
              "      div.appendChild(label);\n",
              "      const progress = document.createElement('progress');\n",
              "      progress.max = size;\n",
              "      div.appendChild(progress);\n",
              "      document.body.appendChild(div);\n",
              "\n",
              "      const buffers = [];\n",
              "      let downloaded = 0;\n",
              "\n",
              "      const channel = await google.colab.kernel.comms.open(id);\n",
              "      // Send a message to notify the kernel that we're ready.\n",
              "      channel.send({})\n",
              "\n",
              "      for await (const message of channel.messages) {\n",
              "        // Send a message to notify the kernel that we're ready.\n",
              "        channel.send({})\n",
              "        if (message.buffers) {\n",
              "          for (const buffer of message.buffers) {\n",
              "            buffers.push(buffer);\n",
              "            downloaded += buffer.byteLength;\n",
              "            progress.value = downloaded;\n",
              "          }\n",
              "        }\n",
              "      }\n",
              "      const blob = new Blob(buffers, {type: 'application/binary'});\n",
              "      const a = document.createElement('a');\n",
              "      a.href = window.URL.createObjectURL(blob);\n",
              "      a.download = filename;\n",
              "      div.appendChild(a);\n",
              "      a.click();\n",
              "      div.remove();\n",
              "    }\n",
              "  "
            ]
          },
          "metadata": {}
        },
        {
          "output_type": "display_data",
          "data": {
            "text/plain": [
              "<IPython.core.display.Javascript object>"
            ],
            "application/javascript": [
              "download(\"download_8dfe0507-00f8-49af-91f5-73246cd1fa45\", \"average-prediction.csv\", 300410)"
            ]
          },
          "metadata": {}
        }
      ]
    },
    {
      "cell_type": "code",
      "source": [],
      "metadata": {
        "id": "fzgDcyTiTqgL"
      },
      "execution_count": null,
      "outputs": []
    }
  ]
}